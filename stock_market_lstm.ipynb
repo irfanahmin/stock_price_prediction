{
  "cells": [
    {
      "cell_type": "code",
      "source": [
        "import pandas_datareader as pdr"
      ],
      "metadata": {
        "id": "GTmCMXl5bYKc"
      },
      "execution_count": null,
      "outputs": []
    },
    {
      "cell_type": "markdown",
      "source": [
        "###irfan khan lstm"
      ],
      "metadata": {
        "id": "qtvgiadqfHSF"
      }
    },
    {
      "cell_type": "code",
      "source": [
        "pip install pandas==1.3.3 pandas_datareader==0.10.0\n"
      ],
      "metadata": {
        "colab": {
          "base_uri": "https://localhost:8080/"
        },
        "id": "3_x5a7gKbtzO",
        "outputId": "cbbf2b0e-94ab-485f-81af-6358a454ed88"
      },
      "execution_count": null,
      "outputs": [
        {
          "output_type": "stream",
          "name": "stdout",
          "text": [
            "Requirement already satisfied: pandas==1.3.3 in /usr/local/lib/python3.10/dist-packages (1.3.3)\n",
            "Requirement already satisfied: pandas_datareader==0.10.0 in /usr/local/lib/python3.10/dist-packages (0.10.0)\n",
            "Requirement already satisfied: numpy>=1.17.3 in /usr/local/lib/python3.10/dist-packages (from pandas==1.3.3) (1.26.4)\n",
            "Requirement already satisfied: python-dateutil>=2.7.3 in /usr/local/lib/python3.10/dist-packages (from pandas==1.3.3) (2.8.2)\n",
            "Requirement already satisfied: pytz>=2017.3 in /usr/local/lib/python3.10/dist-packages (from pandas==1.3.3) (2024.2)\n",
            "Requirement already satisfied: lxml in /usr/local/lib/python3.10/dist-packages (from pandas_datareader==0.10.0) (5.3.0)\n",
            "Requirement already satisfied: requests>=2.19.0 in /usr/local/lib/python3.10/dist-packages (from pandas_datareader==0.10.0) (2.32.3)\n",
            "Requirement already satisfied: six>=1.5 in /usr/local/lib/python3.10/dist-packages (from python-dateutil>=2.7.3->pandas==1.3.3) (1.16.0)\n",
            "Requirement already satisfied: charset-normalizer<4,>=2 in /usr/local/lib/python3.10/dist-packages (from requests>=2.19.0->pandas_datareader==0.10.0) (3.4.0)\n",
            "Requirement already satisfied: idna<4,>=2.5 in /usr/local/lib/python3.10/dist-packages (from requests>=2.19.0->pandas_datareader==0.10.0) (3.10)\n",
            "Requirement already satisfied: urllib3<3,>=1.21.1 in /usr/local/lib/python3.10/dist-packages (from requests>=2.19.0->pandas_datareader==0.10.0) (2.2.3)\n",
            "Requirement already satisfied: certifi>=2017.4.17 in /usr/local/lib/python3.10/dist-packages (from requests>=2.19.0->pandas_datareader==0.10.0) (2024.8.30)\n"
          ]
        }
      ]
    },
    {
      "cell_type": "code",
      "source": [
        "\n",
        "key = \"39967091b8e696ed537def3dab3766663d404e03\""
      ],
      "metadata": {
        "id": "KPtWmUJqbYRL"
      },
      "execution_count": null,
      "outputs": []
    },
    {
      "cell_type": "code",
      "execution_count": null,
      "metadata": {
        "colab": {
          "base_uri": "https://localhost:8080/"
        },
        "id": "2iuLbdVNXlcW",
        "outputId": "36abd90d-06bc-4a30-df04-b41f56476ef4"
      },
      "outputs": [
        {
          "output_type": "stream",
          "name": "stderr",
          "text": [
            "/usr/local/lib/python3.10/dist-packages/pandas_datareader/tiingo.py:234: FutureWarning: In a future version of pandas all arguments of concat except for the argument 'objs' will be keyword-only\n",
            "  return pd.concat(dfs, self._concat_axis)\n"
          ]
        }
      ],
      "source": [
        "df = pdr.get_data_tiingo('AAPL', api_key=key)"
      ]
    },
    {
      "cell_type": "code",
      "execution_count": null,
      "metadata": {
        "id": "wfVfpd_FXlcX"
      },
      "outputs": [],
      "source": [
        "df.to_csv('AAPL.csv')"
      ]
    },
    {
      "cell_type": "code",
      "execution_count": null,
      "metadata": {
        "id": "dOUfDk-ZXlcZ"
      },
      "outputs": [],
      "source": [
        "import pandas as pd"
      ]
    },
    {
      "cell_type": "code",
      "execution_count": null,
      "metadata": {
        "id": "4kE--E4MXlca"
      },
      "outputs": [],
      "source": [
        "df=pd.read_csv('AAPL.csv')"
      ]
    },
    {
      "cell_type": "code",
      "execution_count": null,
      "metadata": {
        "colab": {
          "base_uri": "https://localhost:8080/",
          "height": 313
        },
        "id": "r5CTacWlXlcd",
        "outputId": "accad233-722b-4a80-b085-6ba14aeaaf4e"
      },
      "outputs": [
        {
          "output_type": "execute_result",
          "data": {
            "text/plain": [
              "  symbol                       date   close    high     low    open    volume  \\\n",
              "0   AAPL  2019-11-20 00:00:00+00:00  263.19  266.08  260.40  265.54  26609919   \n",
              "1   AAPL  2019-11-21 00:00:00+00:00  262.01  264.01  261.18  263.69  30348778   \n",
              "2   AAPL  2019-11-22 00:00:00+00:00  261.78  263.18  260.84  262.59  16331263   \n",
              "3   AAPL  2019-11-25 00:00:00+00:00  266.37  266.44  262.52  262.71  21029517   \n",
              "4   AAPL  2019-11-26 00:00:00+00:00  264.29  267.16  262.50  266.94  26334882   \n",
              "\n",
              "    adjClose    adjHigh     adjLow    adjOpen  adjVolume  divCash  splitFactor  \n",
              "0  63.790643  64.491106  63.114417  64.360224  106439676      0.0          1.0  \n",
              "1  63.504640  63.989390  63.303469  63.911830  121395112      0.0          1.0  \n",
              "2  63.448894  63.788219  63.221062  63.645218   65325052      0.0          1.0  \n",
              "3  64.561395  64.578361  63.628251  63.674303   84118068      0.0          1.0  \n",
              "4  64.057255  64.752871  63.623404  64.699548  105339528      0.0          1.0  "
            ],
            "text/html": [
              "\n",
              "  <div id=\"df-7ca9d912-4e89-4435-b95f-62b996f6dd73\" class=\"colab-df-container\">\n",
              "    <div>\n",
              "<style scoped>\n",
              "    .dataframe tbody tr th:only-of-type {\n",
              "        vertical-align: middle;\n",
              "    }\n",
              "\n",
              "    .dataframe tbody tr th {\n",
              "        vertical-align: top;\n",
              "    }\n",
              "\n",
              "    .dataframe thead th {\n",
              "        text-align: right;\n",
              "    }\n",
              "</style>\n",
              "<table border=\"1\" class=\"dataframe\">\n",
              "  <thead>\n",
              "    <tr style=\"text-align: right;\">\n",
              "      <th></th>\n",
              "      <th>symbol</th>\n",
              "      <th>date</th>\n",
              "      <th>close</th>\n",
              "      <th>high</th>\n",
              "      <th>low</th>\n",
              "      <th>open</th>\n",
              "      <th>volume</th>\n",
              "      <th>adjClose</th>\n",
              "      <th>adjHigh</th>\n",
              "      <th>adjLow</th>\n",
              "      <th>adjOpen</th>\n",
              "      <th>adjVolume</th>\n",
              "      <th>divCash</th>\n",
              "      <th>splitFactor</th>\n",
              "    </tr>\n",
              "  </thead>\n",
              "  <tbody>\n",
              "    <tr>\n",
              "      <th>0</th>\n",
              "      <td>AAPL</td>\n",
              "      <td>2019-11-20 00:00:00+00:00</td>\n",
              "      <td>263.19</td>\n",
              "      <td>266.08</td>\n",
              "      <td>260.40</td>\n",
              "      <td>265.54</td>\n",
              "      <td>26609919</td>\n",
              "      <td>63.790643</td>\n",
              "      <td>64.491106</td>\n",
              "      <td>63.114417</td>\n",
              "      <td>64.360224</td>\n",
              "      <td>106439676</td>\n",
              "      <td>0.0</td>\n",
              "      <td>1.0</td>\n",
              "    </tr>\n",
              "    <tr>\n",
              "      <th>1</th>\n",
              "      <td>AAPL</td>\n",
              "      <td>2019-11-21 00:00:00+00:00</td>\n",
              "      <td>262.01</td>\n",
              "      <td>264.01</td>\n",
              "      <td>261.18</td>\n",
              "      <td>263.69</td>\n",
              "      <td>30348778</td>\n",
              "      <td>63.504640</td>\n",
              "      <td>63.989390</td>\n",
              "      <td>63.303469</td>\n",
              "      <td>63.911830</td>\n",
              "      <td>121395112</td>\n",
              "      <td>0.0</td>\n",
              "      <td>1.0</td>\n",
              "    </tr>\n",
              "    <tr>\n",
              "      <th>2</th>\n",
              "      <td>AAPL</td>\n",
              "      <td>2019-11-22 00:00:00+00:00</td>\n",
              "      <td>261.78</td>\n",
              "      <td>263.18</td>\n",
              "      <td>260.84</td>\n",
              "      <td>262.59</td>\n",
              "      <td>16331263</td>\n",
              "      <td>63.448894</td>\n",
              "      <td>63.788219</td>\n",
              "      <td>63.221062</td>\n",
              "      <td>63.645218</td>\n",
              "      <td>65325052</td>\n",
              "      <td>0.0</td>\n",
              "      <td>1.0</td>\n",
              "    </tr>\n",
              "    <tr>\n",
              "      <th>3</th>\n",
              "      <td>AAPL</td>\n",
              "      <td>2019-11-25 00:00:00+00:00</td>\n",
              "      <td>266.37</td>\n",
              "      <td>266.44</td>\n",
              "      <td>262.52</td>\n",
              "      <td>262.71</td>\n",
              "      <td>21029517</td>\n",
              "      <td>64.561395</td>\n",
              "      <td>64.578361</td>\n",
              "      <td>63.628251</td>\n",
              "      <td>63.674303</td>\n",
              "      <td>84118068</td>\n",
              "      <td>0.0</td>\n",
              "      <td>1.0</td>\n",
              "    </tr>\n",
              "    <tr>\n",
              "      <th>4</th>\n",
              "      <td>AAPL</td>\n",
              "      <td>2019-11-26 00:00:00+00:00</td>\n",
              "      <td>264.29</td>\n",
              "      <td>267.16</td>\n",
              "      <td>262.50</td>\n",
              "      <td>266.94</td>\n",
              "      <td>26334882</td>\n",
              "      <td>64.057255</td>\n",
              "      <td>64.752871</td>\n",
              "      <td>63.623404</td>\n",
              "      <td>64.699548</td>\n",
              "      <td>105339528</td>\n",
              "      <td>0.0</td>\n",
              "      <td>1.0</td>\n",
              "    </tr>\n",
              "  </tbody>\n",
              "</table>\n",
              "</div>\n",
              "    <div class=\"colab-df-buttons\">\n",
              "\n",
              "  <div class=\"colab-df-container\">\n",
              "    <button class=\"colab-df-convert\" onclick=\"convertToInteractive('df-7ca9d912-4e89-4435-b95f-62b996f6dd73')\"\n",
              "            title=\"Convert this dataframe to an interactive table.\"\n",
              "            style=\"display:none;\">\n",
              "\n",
              "  <svg xmlns=\"http://www.w3.org/2000/svg\" height=\"24px\" viewBox=\"0 -960 960 960\">\n",
              "    <path d=\"M120-120v-720h720v720H120Zm60-500h600v-160H180v160Zm220 220h160v-160H400v160Zm0 220h160v-160H400v160ZM180-400h160v-160H180v160Zm440 0h160v-160H620v160ZM180-180h160v-160H180v160Zm440 0h160v-160H620v160Z\"/>\n",
              "  </svg>\n",
              "    </button>\n",
              "\n",
              "  <style>\n",
              "    .colab-df-container {\n",
              "      display:flex;\n",
              "      gap: 12px;\n",
              "    }\n",
              "\n",
              "    .colab-df-convert {\n",
              "      background-color: #E8F0FE;\n",
              "      border: none;\n",
              "      border-radius: 50%;\n",
              "      cursor: pointer;\n",
              "      display: none;\n",
              "      fill: #1967D2;\n",
              "      height: 32px;\n",
              "      padding: 0 0 0 0;\n",
              "      width: 32px;\n",
              "    }\n",
              "\n",
              "    .colab-df-convert:hover {\n",
              "      background-color: #E2EBFA;\n",
              "      box-shadow: 0px 1px 2px rgba(60, 64, 67, 0.3), 0px 1px 3px 1px rgba(60, 64, 67, 0.15);\n",
              "      fill: #174EA6;\n",
              "    }\n",
              "\n",
              "    .colab-df-buttons div {\n",
              "      margin-bottom: 4px;\n",
              "    }\n",
              "\n",
              "    [theme=dark] .colab-df-convert {\n",
              "      background-color: #3B4455;\n",
              "      fill: #D2E3FC;\n",
              "    }\n",
              "\n",
              "    [theme=dark] .colab-df-convert:hover {\n",
              "      background-color: #434B5C;\n",
              "      box-shadow: 0px 1px 3px 1px rgba(0, 0, 0, 0.15);\n",
              "      filter: drop-shadow(0px 1px 2px rgba(0, 0, 0, 0.3));\n",
              "      fill: #FFFFFF;\n",
              "    }\n",
              "  </style>\n",
              "\n",
              "    <script>\n",
              "      const buttonEl =\n",
              "        document.querySelector('#df-7ca9d912-4e89-4435-b95f-62b996f6dd73 button.colab-df-convert');\n",
              "      buttonEl.style.display =\n",
              "        google.colab.kernel.accessAllowed ? 'block' : 'none';\n",
              "\n",
              "      async function convertToInteractive(key) {\n",
              "        const element = document.querySelector('#df-7ca9d912-4e89-4435-b95f-62b996f6dd73');\n",
              "        const dataTable =\n",
              "          await google.colab.kernel.invokeFunction('convertToInteractive',\n",
              "                                                    [key], {});\n",
              "        if (!dataTable) return;\n",
              "\n",
              "        const docLinkHtml = 'Like what you see? Visit the ' +\n",
              "          '<a target=\"_blank\" href=https://colab.research.google.com/notebooks/data_table.ipynb>data table notebook</a>'\n",
              "          + ' to learn more about interactive tables.';\n",
              "        element.innerHTML = '';\n",
              "        dataTable['output_type'] = 'display_data';\n",
              "        await google.colab.output.renderOutput(dataTable, element);\n",
              "        const docLink = document.createElement('div');\n",
              "        docLink.innerHTML = docLinkHtml;\n",
              "        element.appendChild(docLink);\n",
              "      }\n",
              "    </script>\n",
              "  </div>\n",
              "\n",
              "\n",
              "<div id=\"df-ee0092ff-b0fe-4eb1-af81-10096eb09d73\">\n",
              "  <button class=\"colab-df-quickchart\" onclick=\"quickchart('df-ee0092ff-b0fe-4eb1-af81-10096eb09d73')\"\n",
              "            title=\"Suggest charts\"\n",
              "            style=\"display:none;\">\n",
              "\n",
              "<svg xmlns=\"http://www.w3.org/2000/svg\" height=\"24px\"viewBox=\"0 0 24 24\"\n",
              "     width=\"24px\">\n",
              "    <g>\n",
              "        <path d=\"M19 3H5c-1.1 0-2 .9-2 2v14c0 1.1.9 2 2 2h14c1.1 0 2-.9 2-2V5c0-1.1-.9-2-2-2zM9 17H7v-7h2v7zm4 0h-2V7h2v10zm4 0h-2v-4h2v4z\"/>\n",
              "    </g>\n",
              "</svg>\n",
              "  </button>\n",
              "\n",
              "<style>\n",
              "  .colab-df-quickchart {\n",
              "      --bg-color: #E8F0FE;\n",
              "      --fill-color: #1967D2;\n",
              "      --hover-bg-color: #E2EBFA;\n",
              "      --hover-fill-color: #174EA6;\n",
              "      --disabled-fill-color: #AAA;\n",
              "      --disabled-bg-color: #DDD;\n",
              "  }\n",
              "\n",
              "  [theme=dark] .colab-df-quickchart {\n",
              "      --bg-color: #3B4455;\n",
              "      --fill-color: #D2E3FC;\n",
              "      --hover-bg-color: #434B5C;\n",
              "      --hover-fill-color: #FFFFFF;\n",
              "      --disabled-bg-color: #3B4455;\n",
              "      --disabled-fill-color: #666;\n",
              "  }\n",
              "\n",
              "  .colab-df-quickchart {\n",
              "    background-color: var(--bg-color);\n",
              "    border: none;\n",
              "    border-radius: 50%;\n",
              "    cursor: pointer;\n",
              "    display: none;\n",
              "    fill: var(--fill-color);\n",
              "    height: 32px;\n",
              "    padding: 0;\n",
              "    width: 32px;\n",
              "  }\n",
              "\n",
              "  .colab-df-quickchart:hover {\n",
              "    background-color: var(--hover-bg-color);\n",
              "    box-shadow: 0 1px 2px rgba(60, 64, 67, 0.3), 0 1px 3px 1px rgba(60, 64, 67, 0.15);\n",
              "    fill: var(--button-hover-fill-color);\n",
              "  }\n",
              "\n",
              "  .colab-df-quickchart-complete:disabled,\n",
              "  .colab-df-quickchart-complete:disabled:hover {\n",
              "    background-color: var(--disabled-bg-color);\n",
              "    fill: var(--disabled-fill-color);\n",
              "    box-shadow: none;\n",
              "  }\n",
              "\n",
              "  .colab-df-spinner {\n",
              "    border: 2px solid var(--fill-color);\n",
              "    border-color: transparent;\n",
              "    border-bottom-color: var(--fill-color);\n",
              "    animation:\n",
              "      spin 1s steps(1) infinite;\n",
              "  }\n",
              "\n",
              "  @keyframes spin {\n",
              "    0% {\n",
              "      border-color: transparent;\n",
              "      border-bottom-color: var(--fill-color);\n",
              "      border-left-color: var(--fill-color);\n",
              "    }\n",
              "    20% {\n",
              "      border-color: transparent;\n",
              "      border-left-color: var(--fill-color);\n",
              "      border-top-color: var(--fill-color);\n",
              "    }\n",
              "    30% {\n",
              "      border-color: transparent;\n",
              "      border-left-color: var(--fill-color);\n",
              "      border-top-color: var(--fill-color);\n",
              "      border-right-color: var(--fill-color);\n",
              "    }\n",
              "    40% {\n",
              "      border-color: transparent;\n",
              "      border-right-color: var(--fill-color);\n",
              "      border-top-color: var(--fill-color);\n",
              "    }\n",
              "    60% {\n",
              "      border-color: transparent;\n",
              "      border-right-color: var(--fill-color);\n",
              "    }\n",
              "    80% {\n",
              "      border-color: transparent;\n",
              "      border-right-color: var(--fill-color);\n",
              "      border-bottom-color: var(--fill-color);\n",
              "    }\n",
              "    90% {\n",
              "      border-color: transparent;\n",
              "      border-bottom-color: var(--fill-color);\n",
              "    }\n",
              "  }\n",
              "</style>\n",
              "\n",
              "  <script>\n",
              "    async function quickchart(key) {\n",
              "      const quickchartButtonEl =\n",
              "        document.querySelector('#' + key + ' button');\n",
              "      quickchartButtonEl.disabled = true;  // To prevent multiple clicks.\n",
              "      quickchartButtonEl.classList.add('colab-df-spinner');\n",
              "      try {\n",
              "        const charts = await google.colab.kernel.invokeFunction(\n",
              "            'suggestCharts', [key], {});\n",
              "      } catch (error) {\n",
              "        console.error('Error during call to suggestCharts:', error);\n",
              "      }\n",
              "      quickchartButtonEl.classList.remove('colab-df-spinner');\n",
              "      quickchartButtonEl.classList.add('colab-df-quickchart-complete');\n",
              "    }\n",
              "    (() => {\n",
              "      let quickchartButtonEl =\n",
              "        document.querySelector('#df-ee0092ff-b0fe-4eb1-af81-10096eb09d73 button');\n",
              "      quickchartButtonEl.style.display =\n",
              "        google.colab.kernel.accessAllowed ? 'block' : 'none';\n",
              "    })();\n",
              "  </script>\n",
              "</div>\n",
              "\n",
              "    </div>\n",
              "  </div>\n"
            ],
            "application/vnd.google.colaboratory.intrinsic+json": {
              "type": "dataframe",
              "variable_name": "df",
              "summary": "{\n  \"name\": \"df\",\n  \"rows\": 1256,\n  \"fields\": [\n    {\n      \"column\": \"symbol\",\n      \"properties\": {\n        \"dtype\": \"category\",\n        \"num_unique_values\": 1,\n        \"samples\": [\n          \"AAPL\"\n        ],\n        \"semantic_type\": \"\",\n        \"description\": \"\"\n      }\n    },\n    {\n      \"column\": \"date\",\n      \"properties\": {\n        \"dtype\": \"object\",\n        \"num_unique_values\": 1256,\n        \"samples\": [\n          \"2021-08-13 00:00:00+00:00\"\n        ],\n        \"semantic_type\": \"\",\n        \"description\": \"\"\n      }\n    },\n    {\n      \"column\": \"close\",\n      \"properties\": {\n        \"dtype\": \"number\",\n        \"std\": 69.14674480023879,\n        \"min\": 106.84,\n        \"max\": 506.09,\n        \"num_unique_values\": 1194,\n        \"samples\": [\n          166.23\n        ],\n        \"semantic_type\": \"\",\n        \"description\": \"\"\n      }\n    },\n    {\n      \"column\": \"high\",\n      \"properties\": {\n        \"dtype\": \"number\",\n        \"std\": 69.81442288546316,\n        \"min\": 110.19,\n        \"max\": 515.14,\n        \"num_unique_values\": 1211,\n        \"samples\": [\n          281.68\n        ],\n        \"semantic_type\": \"\",\n        \"description\": \"\"\n      }\n    },\n    {\n      \"column\": \"low\",\n      \"properties\": {\n        \"dtype\": \"number\",\n        \"std\": 68.13917336132401,\n        \"min\": 103.1,\n        \"max\": 500.33,\n        \"num_unique_values\": 1220,\n        \"samples\": [\n          158.28\n        ],\n        \"semantic_type\": \"\",\n        \"description\": \"\"\n      }\n    },\n    {\n      \"column\": \"open\",\n      \"properties\": {\n        \"dtype\": \"number\",\n        \"std\": 68.87699117479823,\n        \"min\": 104.54,\n        \"max\": 514.79,\n        \"num_unique_values\": 1202,\n        \"samples\": [\n          212.1\n        ],\n        \"semantic_type\": \"\",\n        \"description\": \"\"\n      }\n    },\n    {\n      \"column\": \"volume\",\n      \"properties\": {\n        \"dtype\": \"number\",\n        \"std\": 36876879,\n        \"min\": 11654363,\n        \"max\": 332607163,\n        \"num_unique_values\": 1256,\n        \"samples\": [\n          58846293\n        ],\n        \"semantic_type\": \"\",\n        \"description\": \"\"\n      }\n    },\n    {\n      \"column\": \"adjClose\",\n      \"properties\": {\n        \"dtype\": \"number\",\n        \"std\": 41.50168940012848,\n        \"min\": 54.512493672,\n        \"max\": 236.2198001849,\n        \"num_unique_values\": 1241,\n        \"samples\": [\n          194.978217854\n        ],\n        \"semantic_type\": \"\",\n        \"description\": \"\"\n      }\n    },\n    {\n      \"column\": \"adjHigh\",\n      \"properties\": {\n        \"dtype\": \"number\",\n        \"std\": 41.70730134959593,\n        \"min\": 55.5159103447,\n        \"max\": 237.2286888781,\n        \"num_unique_values\": 1245,\n        \"samples\": [\n          153.5815407858\n        ],\n        \"semantic_type\": \"\",\n        \"description\": \"\"\n      }\n    },\n    {\n      \"column\": \"adjLow\",\n      \"properties\": {\n        \"dtype\": \"number\",\n        \"std\": 41.26538046555102,\n        \"min\": 51.655307214,\n        \"max\": 234.1920338013,\n        \"num_unique_values\": 1249,\n        \"samples\": [\n          164.8939154529\n        ],\n        \"semantic_type\": \"\",\n        \"description\": \"\"\n      }\n    },\n    {\n      \"column\": \"adjOpen\",\n      \"properties\": {\n        \"dtype\": \"number\",\n        \"std\": 41.49689402868647,\n        \"min\": 55.4138679712,\n        \"max\": 235.9486322629,\n        \"num_unique_values\": 1243,\n        \"samples\": [\n          188.4177392589\n        ],\n        \"semantic_type\": \"\",\n        \"description\": \"\"\n      }\n    },\n    {\n      \"column\": \"adjVolume\",\n      \"properties\": {\n        \"dtype\": \"number\",\n        \"std\": 53153762,\n        \"min\": 24048344,\n        \"max\": 426884920,\n        \"num_unique_values\": 1256,\n        \"samples\": [\n          58846293\n        ],\n        \"semantic_type\": \"\",\n        \"description\": \"\"\n      }\n    },\n    {\n      \"column\": \"divCash\",\n      \"properties\": {\n        \"dtype\": \"number\",\n        \"std\": 0.047343350497172816,\n        \"min\": 0.0,\n        \"max\": 0.82,\n        \"num_unique_values\": 8,\n        \"samples\": [\n          0.77\n        ],\n        \"semantic_type\": \"\",\n        \"description\": \"\"\n      }\n    },\n    {\n      \"column\": \"splitFactor\",\n      \"properties\": {\n        \"dtype\": \"number\",\n        \"std\": 0.08464989719746362,\n        \"min\": 1.0,\n        \"max\": 4.0,\n        \"num_unique_values\": 2,\n        \"samples\": [\n          4.0\n        ],\n        \"semantic_type\": \"\",\n        \"description\": \"\"\n      }\n    }\n  ]\n}"
            }
          },
          "metadata": {},
          "execution_count": 8
        }
      ],
      "source": [
        "df.head()"
      ]
    },
    {
      "cell_type": "code",
      "execution_count": null,
      "metadata": {
        "colab": {
          "base_uri": "https://localhost:8080/",
          "height": 313
        },
        "id": "3Fg13ZKhXlcg",
        "outputId": "8257ffbb-48d4-4d12-ec41-8dc5479995eb"
      },
      "outputs": [
        {
          "output_type": "execute_result",
          "data": {
            "text/plain": [
              "     symbol                       date   close    high      low    open  \\\n",
              "1251   AAPL  2024-11-11 00:00:00+00:00  224.23  225.70  221.500  225.00   \n",
              "1252   AAPL  2024-11-12 00:00:00+00:00  224.23  225.59  223.355  224.55   \n",
              "1253   AAPL  2024-11-13 00:00:00+00:00  225.12  226.65  222.760  224.01   \n",
              "1254   AAPL  2024-11-14 00:00:00+00:00  228.22  228.87  225.000  225.02   \n",
              "1255   AAPL  2024-11-15 00:00:00+00:00  225.00  226.92  224.270  226.40   \n",
              "\n",
              "        volume  adjClose  adjHigh   adjLow  adjOpen  adjVolume  divCash  \\\n",
              "1251  42005602    224.23   225.70  221.500   225.00   42005602      0.0   \n",
              "1252  40398299    224.23   225.59  223.355   224.55   40398299      0.0   \n",
              "1253  48566217    225.12   226.65  222.760   224.01   48566217      0.0   \n",
              "1254  44923941    228.22   228.87  225.000   225.02   44923941      0.0   \n",
              "1255  47923696    225.00   226.92  224.270   226.40   47923696      0.0   \n",
              "\n",
              "      splitFactor  \n",
              "1251          1.0  \n",
              "1252          1.0  \n",
              "1253          1.0  \n",
              "1254          1.0  \n",
              "1255          1.0  "
            ],
            "text/html": [
              "\n",
              "  <div id=\"df-25af6a3a-7b17-4db5-9543-9905496974f9\" class=\"colab-df-container\">\n",
              "    <div>\n",
              "<style scoped>\n",
              "    .dataframe tbody tr th:only-of-type {\n",
              "        vertical-align: middle;\n",
              "    }\n",
              "\n",
              "    .dataframe tbody tr th {\n",
              "        vertical-align: top;\n",
              "    }\n",
              "\n",
              "    .dataframe thead th {\n",
              "        text-align: right;\n",
              "    }\n",
              "</style>\n",
              "<table border=\"1\" class=\"dataframe\">\n",
              "  <thead>\n",
              "    <tr style=\"text-align: right;\">\n",
              "      <th></th>\n",
              "      <th>symbol</th>\n",
              "      <th>date</th>\n",
              "      <th>close</th>\n",
              "      <th>high</th>\n",
              "      <th>low</th>\n",
              "      <th>open</th>\n",
              "      <th>volume</th>\n",
              "      <th>adjClose</th>\n",
              "      <th>adjHigh</th>\n",
              "      <th>adjLow</th>\n",
              "      <th>adjOpen</th>\n",
              "      <th>adjVolume</th>\n",
              "      <th>divCash</th>\n",
              "      <th>splitFactor</th>\n",
              "    </tr>\n",
              "  </thead>\n",
              "  <tbody>\n",
              "    <tr>\n",
              "      <th>1251</th>\n",
              "      <td>AAPL</td>\n",
              "      <td>2024-11-11 00:00:00+00:00</td>\n",
              "      <td>224.23</td>\n",
              "      <td>225.70</td>\n",
              "      <td>221.500</td>\n",
              "      <td>225.00</td>\n",
              "      <td>42005602</td>\n",
              "      <td>224.23</td>\n",
              "      <td>225.70</td>\n",
              "      <td>221.500</td>\n",
              "      <td>225.00</td>\n",
              "      <td>42005602</td>\n",
              "      <td>0.0</td>\n",
              "      <td>1.0</td>\n",
              "    </tr>\n",
              "    <tr>\n",
              "      <th>1252</th>\n",
              "      <td>AAPL</td>\n",
              "      <td>2024-11-12 00:00:00+00:00</td>\n",
              "      <td>224.23</td>\n",
              "      <td>225.59</td>\n",
              "      <td>223.355</td>\n",
              "      <td>224.55</td>\n",
              "      <td>40398299</td>\n",
              "      <td>224.23</td>\n",
              "      <td>225.59</td>\n",
              "      <td>223.355</td>\n",
              "      <td>224.55</td>\n",
              "      <td>40398299</td>\n",
              "      <td>0.0</td>\n",
              "      <td>1.0</td>\n",
              "    </tr>\n",
              "    <tr>\n",
              "      <th>1253</th>\n",
              "      <td>AAPL</td>\n",
              "      <td>2024-11-13 00:00:00+00:00</td>\n",
              "      <td>225.12</td>\n",
              "      <td>226.65</td>\n",
              "      <td>222.760</td>\n",
              "      <td>224.01</td>\n",
              "      <td>48566217</td>\n",
              "      <td>225.12</td>\n",
              "      <td>226.65</td>\n",
              "      <td>222.760</td>\n",
              "      <td>224.01</td>\n",
              "      <td>48566217</td>\n",
              "      <td>0.0</td>\n",
              "      <td>1.0</td>\n",
              "    </tr>\n",
              "    <tr>\n",
              "      <th>1254</th>\n",
              "      <td>AAPL</td>\n",
              "      <td>2024-11-14 00:00:00+00:00</td>\n",
              "      <td>228.22</td>\n",
              "      <td>228.87</td>\n",
              "      <td>225.000</td>\n",
              "      <td>225.02</td>\n",
              "      <td>44923941</td>\n",
              "      <td>228.22</td>\n",
              "      <td>228.87</td>\n",
              "      <td>225.000</td>\n",
              "      <td>225.02</td>\n",
              "      <td>44923941</td>\n",
              "      <td>0.0</td>\n",
              "      <td>1.0</td>\n",
              "    </tr>\n",
              "    <tr>\n",
              "      <th>1255</th>\n",
              "      <td>AAPL</td>\n",
              "      <td>2024-11-15 00:00:00+00:00</td>\n",
              "      <td>225.00</td>\n",
              "      <td>226.92</td>\n",
              "      <td>224.270</td>\n",
              "      <td>226.40</td>\n",
              "      <td>47923696</td>\n",
              "      <td>225.00</td>\n",
              "      <td>226.92</td>\n",
              "      <td>224.270</td>\n",
              "      <td>226.40</td>\n",
              "      <td>47923696</td>\n",
              "      <td>0.0</td>\n",
              "      <td>1.0</td>\n",
              "    </tr>\n",
              "  </tbody>\n",
              "</table>\n",
              "</div>\n",
              "    <div class=\"colab-df-buttons\">\n",
              "\n",
              "  <div class=\"colab-df-container\">\n",
              "    <button class=\"colab-df-convert\" onclick=\"convertToInteractive('df-25af6a3a-7b17-4db5-9543-9905496974f9')\"\n",
              "            title=\"Convert this dataframe to an interactive table.\"\n",
              "            style=\"display:none;\">\n",
              "\n",
              "  <svg xmlns=\"http://www.w3.org/2000/svg\" height=\"24px\" viewBox=\"0 -960 960 960\">\n",
              "    <path d=\"M120-120v-720h720v720H120Zm60-500h600v-160H180v160Zm220 220h160v-160H400v160Zm0 220h160v-160H400v160ZM180-400h160v-160H180v160Zm440 0h160v-160H620v160ZM180-180h160v-160H180v160Zm440 0h160v-160H620v160Z\"/>\n",
              "  </svg>\n",
              "    </button>\n",
              "\n",
              "  <style>\n",
              "    .colab-df-container {\n",
              "      display:flex;\n",
              "      gap: 12px;\n",
              "    }\n",
              "\n",
              "    .colab-df-convert {\n",
              "      background-color: #E8F0FE;\n",
              "      border: none;\n",
              "      border-radius: 50%;\n",
              "      cursor: pointer;\n",
              "      display: none;\n",
              "      fill: #1967D2;\n",
              "      height: 32px;\n",
              "      padding: 0 0 0 0;\n",
              "      width: 32px;\n",
              "    }\n",
              "\n",
              "    .colab-df-convert:hover {\n",
              "      background-color: #E2EBFA;\n",
              "      box-shadow: 0px 1px 2px rgba(60, 64, 67, 0.3), 0px 1px 3px 1px rgba(60, 64, 67, 0.15);\n",
              "      fill: #174EA6;\n",
              "    }\n",
              "\n",
              "    .colab-df-buttons div {\n",
              "      margin-bottom: 4px;\n",
              "    }\n",
              "\n",
              "    [theme=dark] .colab-df-convert {\n",
              "      background-color: #3B4455;\n",
              "      fill: #D2E3FC;\n",
              "    }\n",
              "\n",
              "    [theme=dark] .colab-df-convert:hover {\n",
              "      background-color: #434B5C;\n",
              "      box-shadow: 0px 1px 3px 1px rgba(0, 0, 0, 0.15);\n",
              "      filter: drop-shadow(0px 1px 2px rgba(0, 0, 0, 0.3));\n",
              "      fill: #FFFFFF;\n",
              "    }\n",
              "  </style>\n",
              "\n",
              "    <script>\n",
              "      const buttonEl =\n",
              "        document.querySelector('#df-25af6a3a-7b17-4db5-9543-9905496974f9 button.colab-df-convert');\n",
              "      buttonEl.style.display =\n",
              "        google.colab.kernel.accessAllowed ? 'block' : 'none';\n",
              "\n",
              "      async function convertToInteractive(key) {\n",
              "        const element = document.querySelector('#df-25af6a3a-7b17-4db5-9543-9905496974f9');\n",
              "        const dataTable =\n",
              "          await google.colab.kernel.invokeFunction('convertToInteractive',\n",
              "                                                    [key], {});\n",
              "        if (!dataTable) return;\n",
              "\n",
              "        const docLinkHtml = 'Like what you see? Visit the ' +\n",
              "          '<a target=\"_blank\" href=https://colab.research.google.com/notebooks/data_table.ipynb>data table notebook</a>'\n",
              "          + ' to learn more about interactive tables.';\n",
              "        element.innerHTML = '';\n",
              "        dataTable['output_type'] = 'display_data';\n",
              "        await google.colab.output.renderOutput(dataTable, element);\n",
              "        const docLink = document.createElement('div');\n",
              "        docLink.innerHTML = docLinkHtml;\n",
              "        element.appendChild(docLink);\n",
              "      }\n",
              "    </script>\n",
              "  </div>\n",
              "\n",
              "\n",
              "<div id=\"df-92c0f127-cb69-4f9a-a578-0559e8182a2b\">\n",
              "  <button class=\"colab-df-quickchart\" onclick=\"quickchart('df-92c0f127-cb69-4f9a-a578-0559e8182a2b')\"\n",
              "            title=\"Suggest charts\"\n",
              "            style=\"display:none;\">\n",
              "\n",
              "<svg xmlns=\"http://www.w3.org/2000/svg\" height=\"24px\"viewBox=\"0 0 24 24\"\n",
              "     width=\"24px\">\n",
              "    <g>\n",
              "        <path d=\"M19 3H5c-1.1 0-2 .9-2 2v14c0 1.1.9 2 2 2h14c1.1 0 2-.9 2-2V5c0-1.1-.9-2-2-2zM9 17H7v-7h2v7zm4 0h-2V7h2v10zm4 0h-2v-4h2v4z\"/>\n",
              "    </g>\n",
              "</svg>\n",
              "  </button>\n",
              "\n",
              "<style>\n",
              "  .colab-df-quickchart {\n",
              "      --bg-color: #E8F0FE;\n",
              "      --fill-color: #1967D2;\n",
              "      --hover-bg-color: #E2EBFA;\n",
              "      --hover-fill-color: #174EA6;\n",
              "      --disabled-fill-color: #AAA;\n",
              "      --disabled-bg-color: #DDD;\n",
              "  }\n",
              "\n",
              "  [theme=dark] .colab-df-quickchart {\n",
              "      --bg-color: #3B4455;\n",
              "      --fill-color: #D2E3FC;\n",
              "      --hover-bg-color: #434B5C;\n",
              "      --hover-fill-color: #FFFFFF;\n",
              "      --disabled-bg-color: #3B4455;\n",
              "      --disabled-fill-color: #666;\n",
              "  }\n",
              "\n",
              "  .colab-df-quickchart {\n",
              "    background-color: var(--bg-color);\n",
              "    border: none;\n",
              "    border-radius: 50%;\n",
              "    cursor: pointer;\n",
              "    display: none;\n",
              "    fill: var(--fill-color);\n",
              "    height: 32px;\n",
              "    padding: 0;\n",
              "    width: 32px;\n",
              "  }\n",
              "\n",
              "  .colab-df-quickchart:hover {\n",
              "    background-color: var(--hover-bg-color);\n",
              "    box-shadow: 0 1px 2px rgba(60, 64, 67, 0.3), 0 1px 3px 1px rgba(60, 64, 67, 0.15);\n",
              "    fill: var(--button-hover-fill-color);\n",
              "  }\n",
              "\n",
              "  .colab-df-quickchart-complete:disabled,\n",
              "  .colab-df-quickchart-complete:disabled:hover {\n",
              "    background-color: var(--disabled-bg-color);\n",
              "    fill: var(--disabled-fill-color);\n",
              "    box-shadow: none;\n",
              "  }\n",
              "\n",
              "  .colab-df-spinner {\n",
              "    border: 2px solid var(--fill-color);\n",
              "    border-color: transparent;\n",
              "    border-bottom-color: var(--fill-color);\n",
              "    animation:\n",
              "      spin 1s steps(1) infinite;\n",
              "  }\n",
              "\n",
              "  @keyframes spin {\n",
              "    0% {\n",
              "      border-color: transparent;\n",
              "      border-bottom-color: var(--fill-color);\n",
              "      border-left-color: var(--fill-color);\n",
              "    }\n",
              "    20% {\n",
              "      border-color: transparent;\n",
              "      border-left-color: var(--fill-color);\n",
              "      border-top-color: var(--fill-color);\n",
              "    }\n",
              "    30% {\n",
              "      border-color: transparent;\n",
              "      border-left-color: var(--fill-color);\n",
              "      border-top-color: var(--fill-color);\n",
              "      border-right-color: var(--fill-color);\n",
              "    }\n",
              "    40% {\n",
              "      border-color: transparent;\n",
              "      border-right-color: var(--fill-color);\n",
              "      border-top-color: var(--fill-color);\n",
              "    }\n",
              "    60% {\n",
              "      border-color: transparent;\n",
              "      border-right-color: var(--fill-color);\n",
              "    }\n",
              "    80% {\n",
              "      border-color: transparent;\n",
              "      border-right-color: var(--fill-color);\n",
              "      border-bottom-color: var(--fill-color);\n",
              "    }\n",
              "    90% {\n",
              "      border-color: transparent;\n",
              "      border-bottom-color: var(--fill-color);\n",
              "    }\n",
              "  }\n",
              "</style>\n",
              "\n",
              "  <script>\n",
              "    async function quickchart(key) {\n",
              "      const quickchartButtonEl =\n",
              "        document.querySelector('#' + key + ' button');\n",
              "      quickchartButtonEl.disabled = true;  // To prevent multiple clicks.\n",
              "      quickchartButtonEl.classList.add('colab-df-spinner');\n",
              "      try {\n",
              "        const charts = await google.colab.kernel.invokeFunction(\n",
              "            'suggestCharts', [key], {});\n",
              "      } catch (error) {\n",
              "        console.error('Error during call to suggestCharts:', error);\n",
              "      }\n",
              "      quickchartButtonEl.classList.remove('colab-df-spinner');\n",
              "      quickchartButtonEl.classList.add('colab-df-quickchart-complete');\n",
              "    }\n",
              "    (() => {\n",
              "      let quickchartButtonEl =\n",
              "        document.querySelector('#df-92c0f127-cb69-4f9a-a578-0559e8182a2b button');\n",
              "      quickchartButtonEl.style.display =\n",
              "        google.colab.kernel.accessAllowed ? 'block' : 'none';\n",
              "    })();\n",
              "  </script>\n",
              "</div>\n",
              "\n",
              "    </div>\n",
              "  </div>\n"
            ],
            "application/vnd.google.colaboratory.intrinsic+json": {
              "type": "dataframe",
              "repr_error": "0"
            }
          },
          "metadata": {},
          "execution_count": 9
        }
      ],
      "source": [
        "df.tail()"
      ]
    },
    {
      "cell_type": "code",
      "execution_count": null,
      "metadata": {
        "id": "EfleRvynXlci"
      },
      "outputs": [],
      "source": [
        "df1=df.reset_index()['close']"
      ]
    },
    {
      "cell_type": "code",
      "execution_count": null,
      "metadata": {
        "colab": {
          "base_uri": "https://localhost:8080/",
          "height": 458
        },
        "id": "spYRYSI3Xlcj",
        "outputId": "93df0b30-3f42-485f-cd16-e35313ac4876"
      },
      "outputs": [
        {
          "output_type": "execute_result",
          "data": {
            "text/plain": [
              "0       263.19\n",
              "1       262.01\n",
              "2       261.78\n",
              "3       266.37\n",
              "4       264.29\n",
              "         ...  \n",
              "1251    224.23\n",
              "1252    224.23\n",
              "1253    225.12\n",
              "1254    228.22\n",
              "1255    225.00\n",
              "Name: close, Length: 1256, dtype: float64"
            ],
            "text/html": [
              "<div>\n",
              "<style scoped>\n",
              "    .dataframe tbody tr th:only-of-type {\n",
              "        vertical-align: middle;\n",
              "    }\n",
              "\n",
              "    .dataframe tbody tr th {\n",
              "        vertical-align: top;\n",
              "    }\n",
              "\n",
              "    .dataframe thead th {\n",
              "        text-align: right;\n",
              "    }\n",
              "</style>\n",
              "<table border=\"1\" class=\"dataframe\">\n",
              "  <thead>\n",
              "    <tr style=\"text-align: right;\">\n",
              "      <th></th>\n",
              "      <th>close</th>\n",
              "    </tr>\n",
              "  </thead>\n",
              "  <tbody>\n",
              "    <tr>\n",
              "      <th>0</th>\n",
              "      <td>263.19</td>\n",
              "    </tr>\n",
              "    <tr>\n",
              "      <th>1</th>\n",
              "      <td>262.01</td>\n",
              "    </tr>\n",
              "    <tr>\n",
              "      <th>2</th>\n",
              "      <td>261.78</td>\n",
              "    </tr>\n",
              "    <tr>\n",
              "      <th>3</th>\n",
              "      <td>266.37</td>\n",
              "    </tr>\n",
              "    <tr>\n",
              "      <th>4</th>\n",
              "      <td>264.29</td>\n",
              "    </tr>\n",
              "    <tr>\n",
              "      <th>...</th>\n",
              "      <td>...</td>\n",
              "    </tr>\n",
              "    <tr>\n",
              "      <th>1251</th>\n",
              "      <td>224.23</td>\n",
              "    </tr>\n",
              "    <tr>\n",
              "      <th>1252</th>\n",
              "      <td>224.23</td>\n",
              "    </tr>\n",
              "    <tr>\n",
              "      <th>1253</th>\n",
              "      <td>225.12</td>\n",
              "    </tr>\n",
              "    <tr>\n",
              "      <th>1254</th>\n",
              "      <td>228.22</td>\n",
              "    </tr>\n",
              "    <tr>\n",
              "      <th>1255</th>\n",
              "      <td>225.00</td>\n",
              "    </tr>\n",
              "  </tbody>\n",
              "</table>\n",
              "<p>1256 rows × 1 columns</p>\n",
              "</div><br><label><b>dtype:</b> float64</label>"
            ]
          },
          "metadata": {},
          "execution_count": 11
        }
      ],
      "source": [
        "df1"
      ]
    },
    {
      "cell_type": "code",
      "execution_count": null,
      "metadata": {
        "colab": {
          "base_uri": "https://localhost:8080/",
          "height": 447
        },
        "id": "F--obUsjXlck",
        "outputId": "4a048f3f-74ac-4419-a538-728ffb23574e"
      },
      "outputs": [
        {
          "output_type": "execute_result",
          "data": {
            "text/plain": [
              "[<matplotlib.lines.Line2D at 0x7a1829241fc0>]"
            ]
          },
          "metadata": {},
          "execution_count": 12
        },
        {
          "output_type": "display_data",
          "data": {
            "text/plain": [
              "<Figure size 640x480 with 1 Axes>"
            ],
            "image/png": "[encoded data removed]"
          },
          "metadata": {}
        }
      ],
      "source": [
        "import matplotlib.pyplot as plt\n",
        "plt.plot(df1)"
      ]
    },
    {
      "cell_type": "code",
      "execution_count": null,
      "metadata": {
        "id": "X5S8D54KXlcm"
      },
      "outputs": [],
      "source": [
        "import numpy as np"
      ]
    },
    {
      "cell_type": "code",
      "execution_count": null,
      "metadata": {
        "colab": {
          "base_uri": "https://localhost:8080/",
          "height": 458
        },
        "id": "Cx6vnw8oXlcn",
        "outputId": "ac5fc8a6-cebe-45b3-bf17-7ce85bfdb845"
      },
      "outputs": [
        {
          "output_type": "execute_result",
          "data": {
            "text/plain": [
              "0       263.19\n",
              "1       262.01\n",
              "2       261.78\n",
              "3       266.37\n",
              "4       264.29\n",
              "         ...  \n",
              "1251    224.23\n",
              "1252    224.23\n",
              "1253    225.12\n",
              "1254    228.22\n",
              "1255    225.00\n",
              "Name: close, Length: 1256, dtype: float64"
            ],
            "text/html": [
              "<div>\n",
              "<style scoped>\n",
              "    .dataframe tbody tr th:only-of-type {\n",
              "        vertical-align: middle;\n",
              "    }\n",
              "\n",
              "    .dataframe tbody tr th {\n",
              "        vertical-align: top;\n",
              "    }\n",
              "\n",
              "    .dataframe thead th {\n",
              "        text-align: right;\n",
              "    }\n",
              "</style>\n",
              "<table border=\"1\" class=\"dataframe\">\n",
              "  <thead>\n",
              "    <tr style=\"text-align: right;\">\n",
              "      <th></th>\n",
              "      <th>close</th>\n",
              "    </tr>\n",
              "  </thead>\n",
              "  <tbody>\n",
              "    <tr>\n",
              "      <th>0</th>\n",
              "      <td>263.19</td>\n",
              "    </tr>\n",
              "    <tr>\n",
              "      <th>1</th>\n",
              "      <td>262.01</td>\n",
              "    </tr>\n",
              "    <tr>\n",
              "      <th>2</th>\n",
              "      <td>261.78</td>\n",
              "    </tr>\n",
              "    <tr>\n",
              "      <th>3</th>\n",
              "      <td>266.37</td>\n",
              "    </tr>\n",
              "    <tr>\n",
              "      <th>4</th>\n",
              "      <td>264.29</td>\n",
              "    </tr>\n",
              "    <tr>\n",
              "      <th>...</th>\n",
              "      <td>...</td>\n",
              "    </tr>\n",
              "    <tr>\n",
              "      <th>1251</th>\n",
              "      <td>224.23</td>\n",
              "    </tr>\n",
              "    <tr>\n",
              "      <th>1252</th>\n",
              "      <td>224.23</td>\n",
              "    </tr>\n",
              "    <tr>\n",
              "      <th>1253</th>\n",
              "      <td>225.12</td>\n",
              "    </tr>\n",
              "    <tr>\n",
              "      <th>1254</th>\n",
              "      <td>228.22</td>\n",
              "    </tr>\n",
              "    <tr>\n",
              "      <th>1255</th>\n",
              "      <td>225.00</td>\n",
              "    </tr>\n",
              "  </tbody>\n",
              "</table>\n",
              "<p>1256 rows × 1 columns</p>\n",
              "</div><br><label><b>dtype:</b> float64</label>"
            ]
          },
          "metadata": {},
          "execution_count": 14
        }
      ],
      "source": [
        "df1"
      ]
    },
    {
      "cell_type": "code",
      "execution_count": null,
      "metadata": {
        "id": "-mrGMWGBXlcn"
      },
      "outputs": [],
      "source": [
        "from sklearn.preprocessing import MinMaxScaler\n",
        "scaler=MinMaxScaler(feature_range=(0,1))\n",
        "df1=scaler.fit_transform(np.array(df1).reshape(-1,1))"
      ]
    },
    {
      "cell_type": "code",
      "execution_count": null,
      "metadata": {
        "colab": {
          "base_uri": "https://localhost:8080/"
        },
        "id": "g_mhdIzwXlco",
        "outputId": "4e43e24b-1e27-4359-b4e1-a4dfc5eaa690"
      },
      "outputs": [
        {
          "output_type": "stream",
          "name": "stdout",
          "text": [
            "[[0.39160927]\n",
            " [0.38865373]\n",
            " [0.38807765]\n",
            " ...\n",
            " [0.29625548]\n",
            " [0.30402004]\n",
            " [0.29595492]]\n"
          ]
        }
      ],
      "source": [
        "print(df1)"
      ]
    },
    {
      "cell_type": "code",
      "execution_count": null,
      "metadata": {
        "id": "6t7W0a3hXlcp"
      },
      "outputs": [],
      "source": [
        "training_size = int(len(df1) * 0.8)\n",
        "test_size = len(df1) - training_size\n",
        "train_data, test_data = df1[0:training_size, :], df1[training_size:len(df1), :]"
      ]
    },
    {
      "cell_type": "code",
      "execution_count": null,
      "metadata": {
        "colab": {
          "base_uri": "https://localhost:8080/"
        },
        "id": "8j2F6LAOXlcp",
        "outputId": "d61fe7bf-142e-40ad-e855-3078ef1c63ea"
      },
      "outputs": [
        {
          "output_type": "execute_result",
          "data": {
            "text/plain": [
              "(1004, 252)"
            ]
          },
          "metadata": {},
          "execution_count": 49
        }
      ],
      "source": [
        "training_size,test_size"
      ]
    },
    {
      "cell_type": "code",
      "execution_count": null,
      "metadata": {
        "colab": {
          "base_uri": "https://localhost:8080/"
        },
        "id": "VOpZYiOrXlcq",
        "outputId": "b9fd6860-f8ac-4e24-d0f4-9f2cdf084a3e"
      },
      "outputs": [
        {
          "output_type": "execute_result",
          "data": {
            "text/plain": [
              "array([[0.39160927],\n",
              "       [0.38865373],\n",
              "       [0.38807765],\n",
              "       ...,\n",
              "       [0.19526612],\n",
              "       [0.20187852],\n",
              "       [0.2033062 ]])"
            ]
          },
          "metadata": {},
          "execution_count": 50
        }
      ],
      "source": [
        "train_data"
      ]
    },
    {
      "cell_type": "code",
      "execution_count": null,
      "metadata": {
        "id": "aLYUhEcKXlcr"
      },
      "outputs": [],
      "source": [
        "def create_dataset(dataset, time_step=1):\n",
        "    dataX, dataY = [], []\n",
        "    for i in range(len(dataset) - time_step - 1):\n",
        "        dataX.append(dataset[i:(i + time_step), 0])\n",
        "        dataY.append(dataset[i + time_step, 0])\n",
        "    return np.array(dataX), np.array(dataY)"
      ]
    },
    {
      "cell_type": "code",
      "execution_count": null,
      "metadata": {
        "id": "_l6VOs2mXlct"
      },
      "outputs": [],
      "source": [
        "time_step = 100\n",
        "X_train, y_train = create_dataset(train_data, time_step)\n",
        "X_test, y_test = create_dataset(test_data, time_step)\n",
        "\n",
        "# Reshape input to be [samples, time steps, features]\n",
        "X_train = X_train.reshape(X_train.shape[0], X_train.shape[1], 1)\n",
        "X_test = X_test.reshape(X_test.shape[0], X_test.shape[1], 1)"
      ]
    },
    {
      "cell_type": "code",
      "execution_count": null,
      "metadata": {
        "colab": {
          "base_uri": "https://localhost:8080/"
        },
        "id": "4B0p0EfSXlcu",
        "outputId": "276c30cc-984f-48e4-aa59-97aec8db211f"
      },
      "outputs": [
        {
          "output_type": "stream",
          "name": "stdout",
          "text": [
            "(903, 100, 1)\n",
            "(903,)\n"
          ]
        },
        {
          "output_type": "execute_result",
          "data": {
            "text/plain": [
              "(None, None)"
            ]
          },
          "metadata": {},
          "execution_count": 55
        }
      ],
      "source": [
        "print(X_train.shape), print(y_train.shape)"
      ]
    },
    {
      "cell_type": "code",
      "execution_count": null,
      "metadata": {
        "colab": {
          "base_uri": "https://localhost:8080/"
        },
        "id": "BO6gwYWFXlcw",
        "outputId": "4c5efe89-afaa-4d28-f6c3-d16b77a688db"
      },
      "outputs": [
        {
          "output_type": "stream",
          "name": "stdout",
          "text": [
            "(151, 100, 1)\n",
            "(904,)\n"
          ]
        },
        {
          "output_type": "execute_result",
          "data": {
            "text/plain": [
              "(None, None)"
            ]
          },
          "metadata": {},
          "execution_count": 56
        }
      ],
      "source": [
        "print(X_test.shape), print(ytest.shape)"
      ]
    },
    {
      "cell_type": "code",
      "execution_count": null,
      "metadata": {
        "id": "G-E8lCzUXlcy"
      },
      "outputs": [],
      "source": [
        "# reshape input to be [samples, time steps, features] which is required for LSTM\n",
        "X_train =X_train.reshape(X_train.shape[0],X_train.shape[1] , 1)\n",
        "X_test = X_test.reshape(X_test.shape[0],X_test.shape[1] , 1)"
      ]
    },
    {
      "cell_type": "code",
      "execution_count": null,
      "metadata": {
        "id": "eQ_GvbzLXlcy"
      },
      "outputs": [],
      "source": [
        "### Create the Stacked LSTM model\n",
        "from tensorflow.keras.models import Sequential\n",
        "from tensorflow.keras.layers import Dense\n",
        "from tensorflow.keras.layers import LSTM"
      ]
    },
    {
      "cell_type": "code",
      "execution_count": null,
      "metadata": {
        "id": "5T_EUhDuXlcz"
      },
      "outputs": [],
      "source": [
        "model=Sequential()\n",
        "model.add(LSTM(50,return_sequences=True,input_shape=(100,1)))\n",
        "model.add(LSTM(50,return_sequences=True))\n",
        "model.add(LSTM(50))\n",
        "model.add(Dense(1))\n",
        "model.compile(loss='mean_squared_error',optimizer='adam')\n"
      ]
    },
    {
      "cell_type": "code",
      "execution_count": null,
      "metadata": {
        "colab": {
          "base_uri": "https://localhost:8080/",
          "height": 268
        },
        "id": "ERadcZbxXlcz",
        "outputId": "975d06c3-2768-4309-e6bd-e85c8c82fe36"
      },
      "outputs": [
        {
          "output_type": "display_data",
          "data": {
            "text/plain": [
              "\u001b[1mModel: \"sequential_1\"\u001b[0m\n"
            ],
            "text/html": [
              "<pre style=\"white-space:pre;overflow-x:auto;line-height:normal;font-family:Menlo,'DejaVu Sans Mono',consolas,'Courier New',monospace\"><span style=\"font-weight: bold\">Model: \"sequential_1\"</span>\n",
              "</pre>\n"
            ]
          },
          "metadata": {}
        },
        {
          "output_type": "display_data",
          "data": {
            "text/plain": [
              "┏━━━━━━━━━━━━━━━━━━━━━━━━━━━━━━━━━━━━━━┳━━━━━━━━━━━━━━━━━━━━━━━━━━━━━┳━━━━━━━━━━━━━━━━━┓\n",
              "┃\u001b[1m \u001b[0m\u001b[1mLayer (type)                        \u001b[0m\u001b[1m \u001b[0m┃\u001b[1m \u001b[0m\u001b[1mOutput Shape               \u001b[0m\u001b[1m \u001b[0m┃\u001b[1m \u001b[0m\u001b[1m        Param #\u001b[0m\u001b[1m \u001b[0m┃\n",
              "┡━━━━━━━━━━━━━━━━━━━━━━━━━━━━━━━━━━━━━━╇━━━━━━━━━━━━━━━━━━━━━━━━━━━━━╇━━━━━━━━━━━━━━━━━┩\n",
              "│ lstm_3 (\u001b[38;5;33mLSTM\u001b[0m)                        │ (\u001b[38;5;45mNone\u001b[0m, \u001b[38;5;34m100\u001b[0m, \u001b[38;5;34m50\u001b[0m)             │          \u001b[38;5;34m10,400\u001b[0m │\n",
              "├──────────────────────────────────────┼─────────────────────────────┼─────────────────┤\n",
              "│ lstm_4 (\u001b[38;5;33mLSTM\u001b[0m)                        │ (\u001b[38;5;45mNone\u001b[0m, \u001b[38;5;34m100\u001b[0m, \u001b[38;5;34m50\u001b[0m)             │          \u001b[38;5;34m20,200\u001b[0m │\n",
              "├──────────────────────────────────────┼─────────────────────────────┼─────────────────┤\n",
              "│ lstm_5 (\u001b[38;5;33mLSTM\u001b[0m)                        │ (\u001b[38;5;45mNone\u001b[0m, \u001b[38;5;34m50\u001b[0m)                  │          \u001b[38;5;34m20,200\u001b[0m │\n",
              "├──────────────────────────────────────┼─────────────────────────────┼─────────────────┤\n",
              "│ dense_1 (\u001b[38;5;33mDense\u001b[0m)                      │ (\u001b[38;5;45mNone\u001b[0m, \u001b[38;5;34m1\u001b[0m)                   │              \u001b[38;5;34m51\u001b[0m │\n",
              "└──────────────────────────────────────┴─────────────────────────────┴─────────────────┘\n"
            ],
            "text/html": [
              "<pre style=\"white-space:pre;overflow-x:auto;line-height:normal;font-family:Menlo,'DejaVu Sans Mono',consolas,'Courier New',monospace\">┏━━━━━━━━━━━━━━━━━━━━━━━━━━━━━━━━━━━━━━┳━━━━━━━━━━━━━━━━━━━━━━━━━━━━━┳━━━━━━━━━━━━━━━━━┓\n",
              "┃<span style=\"font-weight: bold\"> Layer (type)                         </span>┃<span style=\"font-weight: bold\"> Output Shape                </span>┃<span style=\"font-weight: bold\">         Param # </span>┃\n",
              "┡━━━━━━━━━━━━━━━━━━━━━━━━━━━━━━━━━━━━━━╇━━━━━━━━━━━━━━━━━━━━━━━━━━━━━╇━━━━━━━━━━━━━━━━━┩\n",
              "│ lstm_3 (<span style=\"color: #0087ff; text-decoration-color: #0087ff\">LSTM</span>)                        │ (<span style=\"color: #00d7ff; text-decoration-color: #00d7ff\">None</span>, <span style=\"color: #00af00; text-decoration-color: #00af00\">100</span>, <span style=\"color: #00af00; text-decoration-color: #00af00\">50</span>)             │          <span style=\"color: #00af00; text-decoration-color: #00af00\">10,400</span> │\n",
              "├──────────────────────────────────────┼─────────────────────────────┼─────────────────┤\n",
              "│ lstm_4 (<span style=\"color: #0087ff; text-decoration-color: #0087ff\">LSTM</span>)                        │ (<span style=\"color: #00d7ff; text-decoration-color: #00d7ff\">None</span>, <span style=\"color: #00af00; text-decoration-color: #00af00\">100</span>, <span style=\"color: #00af00; text-decoration-color: #00af00\">50</span>)             │          <span style=\"color: #00af00; text-decoration-color: #00af00\">20,200</span> │\n",
              "├──────────────────────────────────────┼─────────────────────────────┼─────────────────┤\n",
              "│ lstm_5 (<span style=\"color: #0087ff; text-decoration-color: #0087ff\">LSTM</span>)                        │ (<span style=\"color: #00d7ff; text-decoration-color: #00d7ff\">None</span>, <span style=\"color: #00af00; text-decoration-color: #00af00\">50</span>)                  │          <span style=\"color: #00af00; text-decoration-color: #00af00\">20,200</span> │\n",
              "├──────────────────────────────────────┼─────────────────────────────┼─────────────────┤\n",
              "│ dense_1 (<span style=\"color: #0087ff; text-decoration-color: #0087ff\">Dense</span>)                      │ (<span style=\"color: #00d7ff; text-decoration-color: #00d7ff\">None</span>, <span style=\"color: #00af00; text-decoration-color: #00af00\">1</span>)                   │              <span style=\"color: #00af00; text-decoration-color: #00af00\">51</span> │\n",
              "└──────────────────────────────────────┴─────────────────────────────┴─────────────────┘\n",
              "</pre>\n"
            ]
          },
          "metadata": {}
        },
        {
          "output_type": "display_data",
          "data": {
            "text/plain": [
              "\u001b[1m Total params: \u001b[0m\u001b[38;5;34m50,851\u001b[0m (198.64 KB)\n"
            ],
            "text/html": [
              "<pre style=\"white-space:pre;overflow-x:auto;line-height:normal;font-family:Menlo,'DejaVu Sans Mono',consolas,'Courier New',monospace\"><span style=\"font-weight: bold\"> Total params: </span><span style=\"color: #00af00; text-decoration-color: #00af00\">50,851</span> (198.64 KB)\n",
              "</pre>\n"
            ]
          },
          "metadata": {}
        },
        {
          "output_type": "display_data",
          "data": {
            "text/plain": [
              "\u001b[1m Trainable params: \u001b[0m\u001b[38;5;34m50,851\u001b[0m (198.64 KB)\n"
            ],
            "text/html": [
              "<pre style=\"white-space:pre;overflow-x:auto;line-height:normal;font-family:Menlo,'DejaVu Sans Mono',consolas,'Courier New',monospace\"><span style=\"font-weight: bold\"> Trainable params: </span><span style=\"color: #00af00; text-decoration-color: #00af00\">50,851</span> (198.64 KB)\n",
              "</pre>\n"
            ]
          },
          "metadata": {}
        },
        {
          "output_type": "display_data",
          "data": {
            "text/plain": [
              "\u001b[1m Non-trainable params: \u001b[0m\u001b[38;5;34m0\u001b[0m (0.00 B)\n"
            ],
            "text/html": [
              "<pre style=\"white-space:pre;overflow-x:auto;line-height:normal;font-family:Menlo,'DejaVu Sans Mono',consolas,'Courier New',monospace\"><span style=\"font-weight: bold\"> Non-trainable params: </span><span style=\"color: #00af00; text-decoration-color: #00af00\">0</span> (0.00 B)\n",
              "</pre>\n"
            ]
          },
          "metadata": {}
        }
      ],
      "source": [
        "model.summary()"
      ]
    },
    {
      "cell_type": "code",
      "execution_count": null,
      "metadata": {
        "id": "ApMt546uXlc1"
      },
      "outputs": [],
      "source": []
    },
    {
      "cell_type": "code",
      "execution_count": null,
      "metadata": {
        "colab": {
          "base_uri": "https://localhost:8080/",
          "height": 1000
        },
        "id": "Zm2nEEfdXlc1",
        "outputId": "dd3a00bf-8705-4d7f-f66b-a00e47fcb6e3"
      },
      "outputs": [
        {
          "output_type": "stream",
          "name": "stdout",
          "text": [
            "X_train shape: (903, 100, 1)\n",
            "y_train shape: (903,)\n",
            "X_test shape: (151, 100, 1)\n",
            "y_test shape: (151,)\n"
          ]
        },
        {
          "output_type": "display_data",
          "data": {
            "text/plain": [
              "\u001b[1mModel: \"sequential_3\"\u001b[0m\n"
            ],
            "text/html": [
              "<pre style=\"white-space:pre;overflow-x:auto;line-height:normal;font-family:Menlo,'DejaVu Sans Mono',consolas,'Courier New',monospace\"><span style=\"font-weight: bold\">Model: \"sequential_3\"</span>\n",
              "</pre>\n"
            ]
          },
          "metadata": {}
        },
        {
          "output_type": "display_data",
          "data": {
            "text/plain": [
              "┏━━━━━━━━━━━━━━━━━━━━━━━━━━━━━━━━━━━━━━┳━━━━━━━━━━━━━━━━━━━━━━━━━━━━━┳━━━━━━━━━━━━━━━━━┓\n",
              "┃\u001b[1m \u001b[0m\u001b[1mLayer (type)                        \u001b[0m\u001b[1m \u001b[0m┃\u001b[1m \u001b[0m\u001b[1mOutput Shape               \u001b[0m\u001b[1m \u001b[0m┃\u001b[1m \u001b[0m\u001b[1m        Param #\u001b[0m\u001b[1m \u001b[0m┃\n",
              "┡━━━━━━━━━━━━━━━━━━━━━━━━━━━━━━━━━━━━━━╇━━━━━━━━━━━━━━━━━━━━━━━━━━━━━╇━━━━━━━━━━━━━━━━━┩\n",
              "│ lstm_9 (\u001b[38;5;33mLSTM\u001b[0m)                        │ (\u001b[38;5;45mNone\u001b[0m, \u001b[38;5;34m100\u001b[0m, \u001b[38;5;34m50\u001b[0m)             │          \u001b[38;5;34m10,400\u001b[0m │\n",
              "├──────────────────────────────────────┼─────────────────────────────┼─────────────────┤\n",
              "│ lstm_10 (\u001b[38;5;33mLSTM\u001b[0m)                       │ (\u001b[38;5;45mNone\u001b[0m, \u001b[38;5;34m100\u001b[0m, \u001b[38;5;34m50\u001b[0m)             │          \u001b[38;5;34m20,200\u001b[0m │\n",
              "├──────────────────────────────────────┼─────────────────────────────┼─────────────────┤\n",
              "│ lstm_11 (\u001b[38;5;33mLSTM\u001b[0m)                       │ (\u001b[38;5;45mNone\u001b[0m, \u001b[38;5;34m50\u001b[0m)                  │          \u001b[38;5;34m20,200\u001b[0m │\n",
              "├──────────────────────────────────────┼─────────────────────────────┼─────────────────┤\n",
              "│ dense_3 (\u001b[38;5;33mDense\u001b[0m)                      │ (\u001b[38;5;45mNone\u001b[0m, \u001b[38;5;34m1\u001b[0m)                   │              \u001b[38;5;34m51\u001b[0m │\n",
              "└──────────────────────────────────────┴─────────────────────────────┴─────────────────┘\n"
            ],
            "text/html": [
              "<pre style=\"white-space:pre;overflow-x:auto;line-height:normal;font-family:Menlo,'DejaVu Sans Mono',consolas,'Courier New',monospace\">┏━━━━━━━━━━━━━━━━━━━━━━━━━━━━━━━━━━━━━━┳━━━━━━━━━━━━━━━━━━━━━━━━━━━━━┳━━━━━━━━━━━━━━━━━┓\n",
              "┃<span style=\"font-weight: bold\"> Layer (type)                         </span>┃<span style=\"font-weight: bold\"> Output Shape                </span>┃<span style=\"font-weight: bold\">         Param # </span>┃\n",
              "┡━━━━━━━━━━━━━━━━━━━━━━━━━━━━━━━━━━━━━━╇━━━━━━━━━━━━━━━━━━━━━━━━━━━━━╇━━━━━━━━━━━━━━━━━┩\n",
              "│ lstm_9 (<span style=\"color: #0087ff; text-decoration-color: #0087ff\">LSTM</span>)                        │ (<span style=\"color: #00d7ff; text-decoration-color: #00d7ff\">None</span>, <span style=\"color: #00af00; text-decoration-color: #00af00\">100</span>, <span style=\"color: #00af00; text-decoration-color: #00af00\">50</span>)             │          <span style=\"color: #00af00; text-decoration-color: #00af00\">10,400</span> │\n",
              "├──────────────────────────────────────┼─────────────────────────────┼─────────────────┤\n",
              "│ lstm_10 (<span style=\"color: #0087ff; text-decoration-color: #0087ff\">LSTM</span>)                       │ (<span style=\"color: #00d7ff; text-decoration-color: #00d7ff\">None</span>, <span style=\"color: #00af00; text-decoration-color: #00af00\">100</span>, <span style=\"color: #00af00; text-decoration-color: #00af00\">50</span>)             │          <span style=\"color: #00af00; text-decoration-color: #00af00\">20,200</span> │\n",
              "├──────────────────────────────────────┼─────────────────────────────┼─────────────────┤\n",
              "│ lstm_11 (<span style=\"color: #0087ff; text-decoration-color: #0087ff\">LSTM</span>)                       │ (<span style=\"color: #00d7ff; text-decoration-color: #00d7ff\">None</span>, <span style=\"color: #00af00; text-decoration-color: #00af00\">50</span>)                  │          <span style=\"color: #00af00; text-decoration-color: #00af00\">20,200</span> │\n",
              "├──────────────────────────────────────┼─────────────────────────────┼─────────────────┤\n",
              "│ dense_3 (<span style=\"color: #0087ff; text-decoration-color: #0087ff\">Dense</span>)                      │ (<span style=\"color: #00d7ff; text-decoration-color: #00d7ff\">None</span>, <span style=\"color: #00af00; text-decoration-color: #00af00\">1</span>)                   │              <span style=\"color: #00af00; text-decoration-color: #00af00\">51</span> │\n",
              "└──────────────────────────────────────┴─────────────────────────────┴─────────────────┘\n",
              "</pre>\n"
            ]
          },
          "metadata": {}
        },
        {
          "output_type": "display_data",
          "data": {
            "text/plain": [
              "\u001b[1m Total params: \u001b[0m\u001b[38;5;34m50,851\u001b[0m (198.64 KB)\n"
            ],
            "text/html": [
              "<pre style=\"white-space:pre;overflow-x:auto;line-height:normal;font-family:Menlo,'DejaVu Sans Mono',consolas,'Courier New',monospace\"><span style=\"font-weight: bold\"> Total params: </span><span style=\"color: #00af00; text-decoration-color: #00af00\">50,851</span> (198.64 KB)\n",
              "</pre>\n"
            ]
          },
          "metadata": {}
        },
        {
          "output_type": "display_data",
          "data": {
            "text/plain": [
              "\u001b[1m Trainable params: \u001b[0m\u001b[38;5;34m50,851\u001b[0m (198.64 KB)\n"
            ],
            "text/html": [
              "<pre style=\"white-space:pre;overflow-x:auto;line-height:normal;font-family:Menlo,'DejaVu Sans Mono',consolas,'Courier New',monospace\"><span style=\"font-weight: bold\"> Trainable params: </span><span style=\"color: #00af00; text-decoration-color: #00af00\">50,851</span> (198.64 KB)\n",
              "</pre>\n"
            ]
          },
          "metadata": {}
        },
        {
          "output_type": "display_data",
          "data": {
            "text/plain": [
              "\u001b[1m Non-trainable params: \u001b[0m\u001b[38;5;34m0\u001b[0m (0.00 B)\n"
            ],
            "text/html": [
              "<pre style=\"white-space:pre;overflow-x:auto;line-height:normal;font-family:Menlo,'DejaVu Sans Mono',consolas,'Courier New',monospace\"><span style=\"font-weight: bold\"> Non-trainable params: </span><span style=\"color: #00af00; text-decoration-color: #00af00\">0</span> (0.00 B)\n",
              "</pre>\n"
            ]
          },
          "metadata": {}
        },
        {
          "output_type": "stream",
          "name": "stdout",
          "text": [
            "Epoch 1/50\n",
            "\u001b[1m15/15\u001b[0m \u001b[32m━━━━━━━━━━━━━━━━━━━━\u001b[0m\u001b[37m\u001b[0m \u001b[1m59s\u001b[0m 2s/step - loss: 0.0327 - val_loss: 0.0087\n",
            "Epoch 2/50\n",
            "\u001b[1m15/15\u001b[0m \u001b[32m━━━━━━━━━━━━━━━━━━━━\u001b[0m\u001b[37m\u001b[0m \u001b[1m11s\u001b[0m 23ms/step - loss: 0.0090 - val_loss: 0.0012\n",
            "Epoch 3/50\n",
            "\u001b[1m15/15\u001b[0m \u001b[32m━━━━━━━━━━━━━━━━━━━━\u001b[0m\u001b[37m\u001b[0m \u001b[1m1s\u001b[0m 17ms/step - loss: 0.0088 - val_loss: 8.8804e-04\n",
            "Epoch 4/50\n",
            "\u001b[1m15/15\u001b[0m \u001b[32m━━━━━━━━━━━━━━━━━━━━\u001b[0m\u001b[37m\u001b[0m \u001b[1m0s\u001b[0m 15ms/step - loss: 0.0047 - val_loss: 4.9166e-04\n",
            "Epoch 5/50\n",
            "\u001b[1m15/15\u001b[0m \u001b[32m━━━━━━━━━━━━━━━━━━━━\u001b[0m\u001b[37m\u001b[0m \u001b[1m0s\u001b[0m 14ms/step - loss: 0.0054 - val_loss: 7.6518e-04\n",
            "Epoch 6/50\n",
            "\u001b[1m15/15\u001b[0m \u001b[32m━━━━━━━━━━━━━━━━━━━━\u001b[0m\u001b[37m\u001b[0m \u001b[1m0s\u001b[0m 16ms/step - loss: 0.0043 - val_loss: 7.2105e-04\n",
            "Epoch 7/50\n",
            "\u001b[1m15/15\u001b[0m \u001b[32m━━━━━━━━━━━━━━━━━━━━\u001b[0m\u001b[37m\u001b[0m \u001b[1m0s\u001b[0m 15ms/step - loss: 0.0030 - val_loss: 0.0012\n",
            "Epoch 8/50\n",
            "\u001b[1m15/15\u001b[0m \u001b[32m━━━━━━━━━━━━━━━━━━━━\u001b[0m\u001b[37m\u001b[0m \u001b[1m0s\u001b[0m 16ms/step - loss: 0.0029 - val_loss: 0.0010\n",
            "Epoch 9/50\n",
            "\u001b[1m15/15\u001b[0m \u001b[32m━━━━━━━━━━━━━━━━━━━━\u001b[0m\u001b[37m\u001b[0m \u001b[1m0s\u001b[0m 15ms/step - loss: 0.0025 - val_loss: 8.2597e-04\n",
            "Epoch 10/50\n",
            "\u001b[1m15/15\u001b[0m \u001b[32m━━━━━━━━━━━━━━━━━━━━\u001b[0m\u001b[37m\u001b[0m \u001b[1m0s\u001b[0m 15ms/step - loss: 0.0029 - val_loss: 5.5663e-04\n",
            "Epoch 11/50\n",
            "\u001b[1m15/15\u001b[0m \u001b[32m━━━━━━━━━━━━━━━━━━━━\u001b[0m\u001b[37m\u001b[0m \u001b[1m0s\u001b[0m 15ms/step - loss: 0.0015 - val_loss: 2.7182e-04\n",
            "Epoch 12/50\n",
            "\u001b[1m15/15\u001b[0m \u001b[32m━━━━━━━━━━━━━━━━━━━━\u001b[0m\u001b[37m\u001b[0m \u001b[1m0s\u001b[0m 16ms/step - loss: 0.0030 - val_loss: 8.6977e-04\n",
            "Epoch 13/50\n",
            "\u001b[1m15/15\u001b[0m \u001b[32m━━━━━━━━━━━━━━━━━━━━\u001b[0m\u001b[37m\u001b[0m \u001b[1m0s\u001b[0m 16ms/step - loss: 0.0025 - val_loss: 6.4291e-04\n",
            "Epoch 14/50\n",
            "\u001b[1m15/15\u001b[0m \u001b[32m━━━━━━━━━━━━━━━━━━━━\u001b[0m\u001b[37m\u001b[0m \u001b[1m0s\u001b[0m 15ms/step - loss: 0.0018 - val_loss: 5.7694e-04\n",
            "Epoch 15/50\n",
            "\u001b[1m15/15\u001b[0m \u001b[32m━━━━━━━━━━━━━━━━━━━━\u001b[0m\u001b[37m\u001b[0m \u001b[1m0s\u001b[0m 15ms/step - loss: 0.0017 - val_loss: 4.1632e-04\n",
            "Epoch 16/50\n",
            "\u001b[1m15/15\u001b[0m \u001b[32m━━━━━━━━━━━━━━━━━━━━\u001b[0m\u001b[37m\u001b[0m \u001b[1m0s\u001b[0m 16ms/step - loss: 0.0028 - val_loss: 7.5249e-04\n",
            "Epoch 17/50\n",
            "\u001b[1m15/15\u001b[0m \u001b[32m━━━━━━━━━━━━━━━━━━━━\u001b[0m\u001b[37m\u001b[0m \u001b[1m0s\u001b[0m 16ms/step - loss: 0.0016 - val_loss: 0.0019\n",
            "Epoch 18/50\n",
            "\u001b[1m15/15\u001b[0m \u001b[32m━━━━━━━━━━━━━━━━━━━━\u001b[0m\u001b[37m\u001b[0m \u001b[1m0s\u001b[0m 14ms/step - loss: 0.0033 - val_loss: 5.6947e-04\n",
            "Epoch 19/50\n",
            "\u001b[1m15/15\u001b[0m \u001b[32m━━━━━━━━━━━━━━━━━━━━\u001b[0m\u001b[37m\u001b[0m \u001b[1m0s\u001b[0m 15ms/step - loss: 0.0028 - val_loss: 3.3035e-04\n",
            "Epoch 20/50\n",
            "\u001b[1m15/15\u001b[0m \u001b[32m━━━━━━━━━━━━━━━━━━━━\u001b[0m\u001b[37m\u001b[0m \u001b[1m0s\u001b[0m 15ms/step - loss: 0.0014 - val_loss: 4.8247e-04\n",
            "Epoch 21/50\n",
            "\u001b[1m15/15\u001b[0m \u001b[32m━━━━━━━━━━━━━━━━━━━━\u001b[0m\u001b[37m\u001b[0m \u001b[1m0s\u001b[0m 15ms/step - loss: 0.0017 - val_loss: 3.5329e-04\n",
            "Epoch 22/50\n",
            "\u001b[1m15/15\u001b[0m \u001b[32m━━━━━━━━━━━━━━━━━━━━\u001b[0m\u001b[37m\u001b[0m \u001b[1m0s\u001b[0m 15ms/step - loss: 0.0020 - val_loss: 7.0404e-04\n",
            "Epoch 23/50\n",
            "\u001b[1m15/15\u001b[0m \u001b[32m━━━━━━━━━━━━━━━━━━━━\u001b[0m\u001b[37m\u001b[0m \u001b[1m0s\u001b[0m 18ms/step - loss: 0.0019 - val_loss: 7.4883e-04\n",
            "Epoch 24/50\n",
            "\u001b[1m15/15\u001b[0m \u001b[32m━━━━━━━━━━━━━━━━━━━━\u001b[0m\u001b[37m\u001b[0m \u001b[1m0s\u001b[0m 17ms/step - loss: 0.0017 - val_loss: 3.6746e-04\n",
            "Epoch 25/50\n",
            "\u001b[1m15/15\u001b[0m \u001b[32m━━━━━━━━━━━━━━━━━━━━\u001b[0m\u001b[37m\u001b[0m \u001b[1m0s\u001b[0m 15ms/step - loss: 0.0023 - val_loss: 2.8871e-04\n",
            "Epoch 26/50\n",
            "\u001b[1m15/15\u001b[0m \u001b[32m━━━━━━━━━━━━━━━━━━━━\u001b[0m\u001b[37m\u001b[0m \u001b[1m0s\u001b[0m 15ms/step - loss: 0.0017 - val_loss: 4.8326e-04\n",
            "Epoch 27/50\n",
            "\u001b[1m15/15\u001b[0m \u001b[32m━━━━━━━━━━━━━━━━━━━━\u001b[0m\u001b[37m\u001b[0m \u001b[1m0s\u001b[0m 18ms/step - loss: 0.0021 - val_loss: 4.8136e-04\n",
            "Epoch 28/50\n",
            "\u001b[1m15/15\u001b[0m \u001b[32m━━━━━━━━━━━━━━━━━━━━\u001b[0m\u001b[37m\u001b[0m \u001b[1m1s\u001b[0m 20ms/step - loss: 0.0022 - val_loss: 5.0738e-04\n",
            "Epoch 29/50\n",
            "\u001b[1m15/15\u001b[0m \u001b[32m━━━━━━━━━━━━━━━━━━━━\u001b[0m\u001b[37m\u001b[0m \u001b[1m1s\u001b[0m 23ms/step - loss: 0.0028 - val_loss: 5.0962e-04\n",
            "Epoch 30/50\n",
            "\u001b[1m15/15\u001b[0m \u001b[32m━━━━━━━━━━━━━━━━━━━━\u001b[0m\u001b[37m\u001b[0m \u001b[1m1s\u001b[0m 19ms/step - loss: 0.0011 - val_loss: 5.1476e-04\n",
            "Epoch 31/50\n",
            "\u001b[1m15/15\u001b[0m \u001b[32m━━━━━━━━━━━━━━━━━━━━\u001b[0m\u001b[37m\u001b[0m \u001b[1m0s\u001b[0m 16ms/step - loss: 0.0016 - val_loss: 0.0012\n",
            "Epoch 32/50\n",
            "\u001b[1m15/15\u001b[0m \u001b[32m━━━━━━━━━━━━━━━━━━━━\u001b[0m\u001b[37m\u001b[0m \u001b[1m0s\u001b[0m 14ms/step - loss: 0.0025 - val_loss: 3.3133e-04\n",
            "Epoch 33/50\n",
            "\u001b[1m15/15\u001b[0m \u001b[32m━━━━━━━━━━━━━━━━━━━━\u001b[0m\u001b[37m\u001b[0m \u001b[1m0s\u001b[0m 15ms/step - loss: 0.0016 - val_loss: 3.5251e-04\n",
            "Epoch 34/50\n",
            "\u001b[1m15/15\u001b[0m \u001b[32m━━━━━━━━━━━━━━━━━━━━\u001b[0m\u001b[37m\u001b[0m \u001b[1m0s\u001b[0m 15ms/step - loss: 0.0018 - val_loss: 4.0494e-04\n",
            "Epoch 35/50\n",
            "\u001b[1m15/15\u001b[0m \u001b[32m━━━━━━━━━━━━━━━━━━━━\u001b[0m\u001b[37m\u001b[0m \u001b[1m0s\u001b[0m 15ms/step - loss: 0.0017 - val_loss: 3.9895e-04\n",
            "Epoch 36/50\n",
            "\u001b[1m15/15\u001b[0m \u001b[32m━━━━━━━━━━━━━━━━━━━━\u001b[0m\u001b[37m\u001b[0m \u001b[1m0s\u001b[0m 14ms/step - loss: 0.0012 - val_loss: 2.5181e-04\n",
            "Epoch 37/50\n",
            "\u001b[1m15/15\u001b[0m \u001b[32m━━━━━━━━━━━━━━━━━━━━\u001b[0m\u001b[37m\u001b[0m \u001b[1m0s\u001b[0m 15ms/step - loss: 0.0011 - val_loss: 4.5477e-04\n",
            "Epoch 38/50\n",
            "\u001b[1m15/15\u001b[0m \u001b[32m━━━━━━━━━━━━━━━━━━━━\u001b[0m\u001b[37m\u001b[0m \u001b[1m0s\u001b[0m 16ms/step - loss: 9.4927e-04 - val_loss: 2.3758e-04\n",
            "Epoch 39/50\n",
            "\u001b[1m15/15\u001b[0m \u001b[32m━━━━━━━━━━━━━━━━━━━━\u001b[0m\u001b[37m\u001b[0m \u001b[1m0s\u001b[0m 14ms/step - loss: 0.0011 - val_loss: 3.0972e-04\n",
            "Epoch 40/50\n",
            "\u001b[1m15/15\u001b[0m \u001b[32m━━━━━━━━━━━━━━━━━━━━\u001b[0m\u001b[37m\u001b[0m \u001b[1m0s\u001b[0m 14ms/step - loss: 0.0014 - val_loss: 2.3562e-04\n",
            "Epoch 41/50\n",
            "\u001b[1m15/15\u001b[0m \u001b[32m━━━━━━━━━━━━━━━━━━━━\u001b[0m\u001b[37m\u001b[0m \u001b[1m0s\u001b[0m 14ms/step - loss: 8.9988e-04 - val_loss: 3.1934e-04\n",
            "Epoch 42/50\n",
            "\u001b[1m15/15\u001b[0m \u001b[32m━━━━━━━━━━━━━━━━━━━━\u001b[0m\u001b[37m\u001b[0m \u001b[1m0s\u001b[0m 16ms/step - loss: 6.2823e-04 - val_loss: 2.3518e-04\n",
            "Epoch 43/50\n",
            "\u001b[1m15/15\u001b[0m \u001b[32m━━━━━━━━━━━━━━━━━━━━\u001b[0m\u001b[37m\u001b[0m \u001b[1m0s\u001b[0m 15ms/step - loss: 0.0016 - val_loss: 3.3556e-04\n",
            "Epoch 44/50\n",
            "\u001b[1m15/15\u001b[0m \u001b[32m━━━━━━━━━━━━━━━━━━━━\u001b[0m\u001b[37m\u001b[0m \u001b[1m0s\u001b[0m 15ms/step - loss: 0.0018 - val_loss: 2.2509e-04\n",
            "Epoch 45/50\n",
            "\u001b[1m15/15\u001b[0m \u001b[32m━━━━━━━━━━━━━━━━━━━━\u001b[0m\u001b[37m\u001b[0m \u001b[1m0s\u001b[0m 14ms/step - loss: 0.0012 - val_loss: 3.0056e-04\n",
            "Epoch 46/50\n",
            "\u001b[1m15/15\u001b[0m \u001b[32m━━━━━━━━━━━━━━━━━━━━\u001b[0m\u001b[37m\u001b[0m \u001b[1m0s\u001b[0m 15ms/step - loss: 0.0014 - val_loss: 2.4649e-04\n",
            "Epoch 47/50\n",
            "\u001b[1m15/15\u001b[0m \u001b[32m━━━━━━━━━━━━━━━━━━━━\u001b[0m\u001b[37m\u001b[0m \u001b[1m0s\u001b[0m 14ms/step - loss: 9.8298e-04 - val_loss: 2.9595e-04\n",
            "Epoch 48/50\n",
            "\u001b[1m15/15\u001b[0m \u001b[32m━━━━━━━━━━━━━━━━━━━━\u001b[0m\u001b[37m\u001b[0m \u001b[1m0s\u001b[0m 14ms/step - loss: 8.6998e-04 - val_loss: 2.5110e-04\n",
            "Epoch 49/50\n",
            "\u001b[1m15/15\u001b[0m \u001b[32m━━━━━━━━━━━━━━━━━━━━\u001b[0m\u001b[37m\u001b[0m \u001b[1m0s\u001b[0m 16ms/step - loss: 9.3190e-04 - val_loss: 3.0993e-04\n",
            "Epoch 50/50\n",
            "\u001b[1m15/15\u001b[0m \u001b[32m━━━━━━━━━━━━━━━━━━━━\u001b[0m\u001b[37m\u001b[0m \u001b[1m0s\u001b[0m 14ms/step - loss: 0.0016 - val_loss: 4.6042e-04\n"
          ]
        },
        {
          "output_type": "execute_result",
          "data": {
            "text/plain": [
              "<keras.src.callbacks.history.History at 0x7a1750448e80>"
            ]
          },
          "metadata": {},
          "execution_count": 66
        }
      ],
      "source": [
        "# Fix for data mismatch error\n",
        "def create_dataset(dataset, time_step=1):\n",
        "    dataX, dataY = [], []\n",
        "    for i in range(len(dataset) - time_step - 1):\n",
        "        dataX.append(dataset[i:(i + time_step), 0])\n",
        "        dataY.append(dataset[i + time_step, 0])\n",
        "    return np.array(dataX), np.array(dataY)\n",
        "\n",
        "# Prepare input for LSTM\n",
        "time_step = 100\n",
        "X_train, y_train = create_dataset(train_data, time_step)\n",
        "X_test, y_test = create_dataset(test_data, time_step)\n",
        "\n",
        "# Reshape input to be [samples, time steps, features]\n",
        "X_train = X_train.reshape(X_train.shape[0], X_train.shape[1], 1)\n",
        "X_test = X_test.reshape(X_test.shape[0], X_test.shape[1], 1)\n",
        "\n",
        "# Check consistency of shapes\n",
        "print(\"X_train shape:\", X_train.shape)\n",
        "print(\"y_train shape:\", y_train.shape)\n",
        "print(\"X_test shape:\", X_test.shape)\n",
        "print(\"y_test shape:\", y_test.shape)\n",
        "\n",
        "# Make sure y_train and y_test are matching with X_train and X_test respectively\n",
        "# Ensure the training and testing data are consistent before fitting the model\n",
        "\n",
        "# Build LSTM model\n",
        "model = Sequential()\n",
        "model.add(LSTM(50, return_sequences=True, input_shape=(time_step, 1)))\n",
        "model.add(LSTM(50, return_sequences=True))\n",
        "model.add(LSTM(50))\n",
        "model.add(Dense(1))\n",
        "model.compile(loss='mean_squared_error', optimizer='adam')\n",
        "model.summary()\n",
        "\n",
        "# Train the model\n",
        "model.fit(X_train, y_train, validation_data=(X_test, y_test), epochs=50, batch_size=64, verbose=1)\n"
      ]
    },
    {
      "cell_type": "code",
      "execution_count": null,
      "metadata": {
        "id": "8uTaYr1uXlc1"
      },
      "outputs": [],
      "source": [
        "import tensorflow as tf"
      ]
    },
    {
      "cell_type": "code",
      "execution_count": null,
      "metadata": {
        "id": "wUdo-dS3Xlc2",
        "colab": {
          "base_uri": "https://localhost:8080/",
          "height": 35
        },
        "outputId": "b255238b-c532-4f0a-8119-8c2f6ac8be02"
      },
      "outputs": [
        {
          "output_type": "execute_result",
          "data": {
            "text/plain": [
              "'2.17.1'"
            ],
            "application/vnd.google.colaboratory.intrinsic+json": {
              "type": "string"
            }
          },
          "metadata": {},
          "execution_count": 68
        }
      ],
      "source": [
        "tf.__version__"
      ]
    },
    {
      "cell_type": "code",
      "execution_count": null,
      "metadata": {
        "id": "LQUdHjH6Xlc4",
        "colab": {
          "base_uri": "https://localhost:8080/"
        },
        "outputId": "ad9aee3e-5b42-43d3-9215-67ab3ef809f1"
      },
      "outputs": [
        {
          "output_type": "stream",
          "name": "stdout",
          "text": [
            "\u001b[1m29/29\u001b[0m \u001b[32m━━━━━━━━━━━━━━━━━━━━\u001b[0m\u001b[37m\u001b[0m \u001b[1m1s\u001b[0m 15ms/step\n",
            "\u001b[1m5/5\u001b[0m \u001b[32m━━━━━━━━━━━━━━━━━━━━\u001b[0m\u001b[37m\u001b[0m \u001b[1m0s\u001b[0m 5ms/step \n"
          ]
        }
      ],
      "source": [
        "### Lets Do the prediction and check performance metrics\n",
        "train_predict=model.predict(X_train)\n",
        "test_predict=model.predict(X_test)"
      ]
    },
    {
      "cell_type": "code",
      "execution_count": null,
      "metadata": {
        "id": "vnbwdJigXlc4"
      },
      "outputs": [],
      "source": [
        "##Transformback to original form\n",
        "train_predict=scaler.inverse_transform(train_predict)\n",
        "test_predict=scaler.inverse_transform(test_predict)"
      ]
    },
    {
      "cell_type": "code",
      "execution_count": null,
      "metadata": {
        "id": "qepFlSrkXlc4",
        "colab": {
          "base_uri": "https://localhost:8080/"
        },
        "outputId": "542e22d2-2702-43ba-b6a1-336967fd0456"
      },
      "outputs": [
        {
          "output_type": "execute_result",
          "data": {
            "text/plain": [
              "0.033417984556627145"
            ]
          },
          "metadata": {},
          "execution_count": 72
        }
      ],
      "source": [
        "### Calculate RMSE performance metrics\n",
        "import math\n",
        "from sklearn.metrics import mean_squared_error\n",
        "math.sqrt(mean_squared_error(y_train,train_predict))"
      ]
    },
    {
      "cell_type": "code",
      "execution_count": null,
      "metadata": {
        "id": "ebKW6EwyXlc5",
        "colab": {
          "base_uri": "https://localhost:8080/"
        },
        "outputId": "4470a964-0e86-4549-c358-b34414e0d975"
      },
      "outputs": [
        {
          "output_type": "stream",
          "name": "stdout",
          "text": [
            "\u001b[1m29/29\u001b[0m \u001b[32m━━━━━━━━━━━━━━━━━━━━\u001b[0m\u001b[37m\u001b[0m \u001b[1m0s\u001b[0m 7ms/step\n",
            "\u001b[1m5/5\u001b[0m \u001b[32m━━━━━━━━━━━━━━━━━━━━\u001b[0m\u001b[37m\u001b[0m \u001b[1m0s\u001b[0m 7ms/step \n",
            "Train RMSE: 0.03341798455662713\n",
            "Test RMSE: 0.021457494313791705\n"
          ]
        }
      ],
      "source": [
        "# Predict values using the model\n",
        "train_predict = model.predict(X_train)\n",
        "test_predict = model.predict(X_test)\n",
        "\n",
        "# Transform back to original scale\n",
        "train_predict = scaler.inverse_transform(train_predict)\n",
        "test_predict = scaler.inverse_transform(test_predict)\n",
        "\n",
        "# Calculate RMSE\n",
        "train_rmse = math.sqrt(mean_squared_error(scaler.inverse_transform(y_train.reshape(-1, 1)), train_predict))\n",
        "test_rmse = math.sqrt(mean_squared_error(scaler.inverse_transform(y_test.reshape(-1, 1)), test_predict))\n",
        "\n",
        "print(f\"Train RMSE: {train_rmse}\")\n",
        "print(f\"Test RMSE: {test_rmse}\")\n"
      ]
    },
    {
      "cell_type": "code",
      "execution_count": null,
      "metadata": {
        "id": "D1c2iQ9AXlc6",
        "colab": {
          "base_uri": "https://localhost:8080/",
          "height": 612
        },
        "outputId": "0f87c5c3-ac7a-465c-c207-d4922322d32c"
      },
      "outputs": [
        {
          "output_type": "display_data",
          "data": {
            "text/plain": [
              "<Figure size 1200x600 with 1 Axes>"
            ],
            "image/png": "[encoded data removed]"
          },
          "metadata": {}
        },
        {
          "output_type": "stream",
          "name": "stdout",
          "text": [
            "Predicted values for the next 10 days:\n",
            "[[0.28253946]\n",
            " [0.28157654]\n",
            " [0.27977476]\n",
            " [0.27752161]\n",
            " [0.27507475]\n",
            " [0.27256489]\n",
            " [0.2700429 ]\n",
            " [0.26751918]\n",
            " [0.26498815]\n",
            " [0.26244032]]\n"
          ]
        }
      ],
      "source": [
        "look_back = time_step\n",
        "trainPredictPlot = np.empty_like(df1)\n",
        "trainPredictPlot[:, :] = np.nan\n",
        "trainPredictPlot[look_back:len(train_predict) + look_back, :] = train_predict\n",
        "\n",
        "testPredictPlot = np.empty_like(df1)\n",
        "testPredictPlot[:, :] = np.nan\n",
        "testPredictPlot[len(train_predict) + (look_back * 2) + 1:len(df1) - 1, :] = test_predict\n",
        "\n",
        "plt.figure(figsize=(12, 6))\n",
        "plt.plot(scaler.inverse_transform(df1), label=\"Actual Stock Price\")\n",
        "plt.plot(trainPredictPlot, label=\"Train Predictions\")\n",
        "plt.plot(testPredictPlot, label=\"Test Predictions\")\n",
        "plt.title('Stock Price Prediction')\n",
        "plt.xlabel('Time')\n",
        "plt.ylabel('Price')\n",
        "plt.legend()\n",
        "plt.show()\n",
        "\n",
        "# Future prediction for 10 days\n",
        "x_input = test_data[-time_step:].reshape(1, -1)\n",
        "temp_input = list(x_input[0])\n",
        "lst_output = []\n",
        "\n",
        "n_steps = time_step\n",
        "i = 0\n",
        "\n",
        "while i < 10:\n",
        "    if len(temp_input) > n_steps:\n",
        "        x_input = np.array(temp_input[-n_steps:]).reshape(1, n_steps, 1)\n",
        "    else:\n",
        "        x_input = np.array(temp_input).reshape(1, len(temp_input), 1)\n",
        "    yhat = model.predict(x_input, verbose=0)\n",
        "    temp_input.extend(yhat[0].tolist())\n",
        "    lst_output.extend(yhat.tolist())\n",
        "    i += 1\n",
        "\n",
        "# Transform future predictions back to original scale\n",
        "future_predictions = scaler.inverse_transform(lst_output)\n",
        "\n",
        "print(\"Predicted values for the next 10 days:\")\n",
        "print(future_predictions)\n"
      ]
    },
    {
      "cell_type": "code",
      "execution_count": null,
      "metadata": {
        "id": "B12VEW7QXlc7",
        "colab": {
          "base_uri": "https://localhost:8080/"
        },
        "outputId": "be3b8438-0c34-4259-dab4-53f304b66e68"
      },
      "outputs": [
        {
          "output_type": "execute_result",
          "data": {
            "text/plain": [
              "252"
            ]
          },
          "metadata": {},
          "execution_count": 77
        }
      ],
      "source": [
        "len(test_data)"
      ]
    },
    {
      "cell_type": "code",
      "execution_count": null,
      "metadata": {
        "id": "0mcxnD_lXldM",
        "colab": {
          "base_uri": "https://localhost:8080/"
        },
        "outputId": "35b88018-5b1b-422e-c9cb-d033b39e6d9d"
      },
      "outputs": [
        {
          "output_type": "execute_result",
          "data": {
            "text/plain": [
              "(1, 0)"
            ]
          },
          "metadata": {},
          "execution_count": 78
        }
      ],
      "source": [
        "x_input=test_data[341:].reshape(1,-1)\n",
        "x_input.shape\n"
      ]
    },
    {
      "cell_type": "code",
      "execution_count": null,
      "metadata": {
        "id": "oLdS8b-CXldO"
      },
      "outputs": [],
      "source": [
        "temp_input=list(x_input)\n",
        "temp_input=temp_input[0].tolist()"
      ]
    },
    {
      "cell_type": "code",
      "execution_count": null,
      "metadata": {
        "id": "cooA31uJXldO",
        "colab": {
          "base_uri": "https://localhost:8080/"
        },
        "outputId": "d9bb00a4-d652-4b2a-cb50-2c3681b97a6c"
      },
      "outputs": [
        {
          "output_type": "execute_result",
          "data": {
            "text/plain": [
              "[0.18063869755792106,\n",
              " 0.1776581089542893,\n",
              " 0.16974326862867878,\n",
              " 0.16899185973700687,\n",
              " 0.1793362554790231,\n",
              " 0.17087038196618654,\n",
              " 0.16278021289918598,\n",
              " 0.1635566687539135,\n",
              " 0.158422041327489,\n",
              " 0.14755165936130238,\n",
              " 0.1523356293049467,\n",
              " 0.15919849718221663,\n",
              " 0.14639949906073885,\n",
              " 0.1458484658735128,\n",
              " 0.15168440826549778,\n",
              " 0.15125860989355033,\n",
              " 0.14922980588603624,\n",
              " 0.13763306199123349,\n",
              " 0.140363180964308,\n",
              " 0.1251346274264245,\n",
              " 0.12455854727614268,\n",
              " 0.14226675015654344,\n",
              " 0.12726361928616153,\n",
              " 0.12804007514088916,\n",
              " 0.13184721352536,\n",
              " 0.14822792736380713,\n",
              " 0.12505948653725735,\n",
              " 0.12633688165309953,\n",
              " 0.11326236693800873,\n",
              " 0.11939887288666245,\n",
              " 0.09933625547902314,\n",
              " 0.08946775203506574,\n",
              " 0.10086412022542268,\n",
              " 0.09693174702567309,\n",
              " 0.10619912335629306,\n",
              " 0.08510958046336875,\n",
              " 0.0764182842830306,\n",
              " 0.07701941139636814,\n",
              " 0.09084533500313086,\n",
              " 0.08395742016280527,\n",
              " 0.0843581715716969,\n",
              " 0.09252348152786471,\n",
              " 0.10720100187852216,\n",
              " 0.10519724483406384,\n",
              " 0.10487163431433938,\n",
              " 0.11113337507827176,\n",
              " 0.09653099561678141,\n",
              " 0.09843456480901686,\n",
              " 0.10487163431433938,\n",
              " 0.10299311208515965,\n",
              " 0.0896681277395115,\n",
              " 0.07586725109580456,\n",
              " 0.0627175954915466,\n",
              " 0.06492172824045078,\n",
              " 0.07160926737633061,\n",
              " 0.05815904821540385,\n",
              " 0.061916092673763246,\n",
              " 0.0727113337507827,\n",
              " 0.07140889167188474,\n",
              " 0.07872260488415778,\n",
              " 0.08721352536005006,\n",
              " 0.08721352536005006,\n",
              " 0.07664370695053219,\n",
              " 0.08112711333750777,\n",
              " 0.07484032561051968,\n",
              " 0.08037570444583592,\n",
              " 0.08696305572949276,\n",
              " 0.09036944270507191,\n",
              " 0.09896055103318718,\n",
              " 0.10068879148403248,\n",
              " 0.09525360050093923,\n",
              " 0.0977332498434565,\n",
              " 0.09680651221039449,\n",
              " 0.10427050720100184,\n",
              " 0.10852849092047584,\n",
              " 0.1007639323731997,\n",
              " 0.11060738885410137,\n",
              " 0.11571696931747022,\n",
              " 0.12150281778334371,\n",
              " 0.1183469004383218,\n",
              " 0.11549154664996863,\n",
              " 0.11211020663744514,\n",
              " 0.12510958046336873,\n",
              " 0.12651221039448962,\n",
              " 0.139436443331246,\n",
              " 0.13693174702567307,\n",
              " 0.13317470256731367,\n",
              " 0.1485034439574201,\n",
              " 0.1477019411396368,\n",
              " 0.14654978083907322,\n",
              " 0.1453475266123982,\n",
              " 0.14547276142767684,\n",
              " 0.15629304946775202,\n",
              " 0.1544145272385723,\n",
              " 0.16345648090169063,\n",
              " 0.16618659987476514,\n",
              " 0.16578584846587346,\n",
              " 0.1695929868503444,\n",
              " 0.1685911083281152,\n",
              " 0.16200375704445835,\n",
              " 0.15211020663744512,\n",
              " 0.15125860989355033,\n",
              " 0.15201001878522225,\n",
              " 0.15827175954915462,\n",
              " 0.142216656230432,\n",
              " 0.1366061365059486,\n",
              " 0.13041953663118344,\n",
              " 0.12618659987476516,\n",
              " 0.12804007514088916,\n",
              " 0.1226549780839073,\n",
              " 0.1194489668127739,\n",
              " 0.12303068252974325,\n",
              " 0.1192736380713838,\n",
              " 0.12656230432060112,\n",
              " 0.14174076393237317,\n",
              " 0.1177207263619286,\n",
              " 0.12140262993112083,\n",
              " 0.11403882279273636,\n",
              " 0.10985597996242946,\n",
              " 0.11932373199749524,\n",
              " 0.1253850970569818,\n",
              " 0.1174201628052598,\n",
              " 0.11496556042579836,\n",
              " 0.10917971195992482,\n",
              " 0.11003130870381966,\n",
              " 0.11251095804633682,\n",
              " 0.10770194113963677,\n",
              " 0.08926737633061982,\n",
              " 0.07854727614276763,\n",
              " 0.08919223544145266,\n",
              " 0.09833437695679392,\n",
              " 0.09908578584846583,\n",
              " 0.09665623043206006,\n",
              " 0.08328115216030052,\n",
              " 0.08410770194113959,\n",
              " 0.08050093926111451,\n",
              " 0.07889793362554787,\n",
              " 0.09054477144646211,\n",
              " 0.07899812147777074,\n",
              " 0.08909204758922978,\n",
              " 0.0924483406386975,\n",
              " 0.09272385723231058,\n",
              " 0.09154664996869122,\n",
              " 0.1012648716343143,\n",
              " 0.10672510958046327,\n",
              " 0.11396368190356915,\n",
              " 0.10647463994990602,\n",
              " 0.09507827175954914,\n",
              " 0.1224796493425172,\n",
              " 0.11646837820914213,\n",
              " 0.10973074514715087,\n",
              " 0.0956543519098309,\n",
              " 0.08025046963055726,\n",
              " 0.07899812147777074,\n",
              " 0.08035065748278014,\n",
              " 0.08180338134001247,\n",
              " 0.07020663744520972,\n",
              " 0.10026299311208514,\n",
              " 0.10735128365685653,\n",
              " 0.103794614902943,\n",
              " 0.10820288040075132,\n",
              " 0.10507201001878513,\n",
              " 0.10990607388854096,\n",
              " 0.11133375078271751,\n",
              " 0.10311834690043825,\n",
              " 0.10855353788353161,\n",
              " 0.11078271759549146,\n",
              " 0.10336881653099561,\n",
              " 0.09362554790231681,\n",
              " 0.08598622417031926,\n",
              " 0.10316844082654975,\n",
              " 0.10386975579211016,\n",
              " 0.1026174076393237,\n",
              " 0.0996618659987476,\n",
              " 0.09034439574201625,\n",
              " 0.08541014402003755,\n",
              " 0.08969317470256727,\n",
              " 0.08846587351283652,\n",
              " 0.0943018159048215,\n",
              " 0.096756418284283,\n",
              " 0.09109580463368816,\n",
              " 0.07428929242329363,\n",
              " 0.06930494677520344,\n",
              " 0.06394489668127734,\n",
              " 0.06376956793988725,\n",
              " 0.07165936130244199,\n",
              " 0.0635942391984971,\n",
              " 0.06266750156543521,\n",
              " 0.05808390732623664,\n",
              " 0.04809016906700059,\n",
              " 0.05703193487789604,\n",
              " 0.05783343769567939,\n",
              " 0.04566061365059482,\n",
              " 0.04889167188478394,\n",
              " 0.045535378835316165,\n",
              " 0.05705698184095176,\n",
              " 0.05838447088290544,\n",
              " 0.05983719474013771,\n",
              " 0.06675015654351907,\n",
              " 0.0665497808390732,\n",
              " 0.0699311208515967,\n",
              " 0.0728866624921728,\n",
              " 0.07105823418910456,\n",
              " 0.07120851596743893,\n",
              " 0.07772072636192856,\n",
              " 0.08583594239198494,\n",
              " 0.08939261114589853,\n",
              " 0.08771446462116467,\n",
              " 0.09297432686286783,\n",
              " 0.09790857858484658,\n",
              " 0.09056981840951783,\n",
              " 0.0938008766437069,\n",
              " 0.09665623043206006,\n",
              " 0.11015654351909826,\n",
              " 0.11937382592360674,\n",
              " 0.1124358171571696,\n",
              " 0.11974953036944269,\n",
              " 0.11291170945522849,\n",
              " 0.11028177833437691,\n",
              " 0.1106324358171571,\n",
              " 0.11774577332498432,\n",
              " 0.11611772072636184,\n",
              " 0.12145272385723233,\n",
              " 0.11739511584220413,\n",
              " 0.11448966812773947,\n",
              " 0.10429555416405756,\n",
              " 0.10537257357545393,\n",
              " 0.10659987476518468,\n",
              " 0.09986224170319347,\n",
              " 0.10289292423293667,\n",
              " 0.10161552911709448,\n",
              " 0.09635566687539132,\n",
              " 0.09785848465873509,\n",
              " 0.11068252974326859,\n",
              " 0.11769567939887288,\n",
              " 0.11211020663744514,\n",
              " 0.11529117094552283,\n",
              " 0.1095804633688165,\n",
              " 0.10434564809016905,\n",
              " 0.10927989981214775,\n",
              " 0.11458985597996241,\n",
              " 0.11559173450219157,\n",
              " 0.12275516593613017,\n",
              " 0.1206261740763932,\n",
              " 0.12663744520976827,\n",
              " 0.13134627426424544,\n",
              " 0.12771446462116465,\n",
              " 0.13046963055729488,\n",
              " 0.13377582968065116,\n",
              " 0.12884157795867246,\n",
              " 0.12726361928616153,\n",
              " 0.13507827175954912,\n",
              " 0.13906073888541015,\n",
              " 0.1454226675015654,\n",
              " 0.14860363180964303,\n",
              " 0.14725109580463364,\n",
              " 0.14256731371321218,\n",
              " 0.14482154038822787,\n",
              " 0.13823418910457103,\n",
              " 0.13515341264871633,\n",
              " 0.1334001252348152,\n",
              " 0.14707576706324355,\n",
              " 0.14619912335629304,\n",
              " 0.14624921728240442,\n",
              " 0.14935504070131495,\n",
              " 0.15226048841577955,\n",
              " 0.14980588603631806,\n",
              " 0.14572323105823415,\n",
              " 0.14649968691296178,\n",
              " 0.14259236067626796,\n",
              " 0.14256731371321218,\n",
              " 0.15421415153412643,\n",
              " 0.15739511584220411,\n",
              " 0.15716969317470253,\n",
              " 0.1545397620538509,\n",
              " 0.15180964308077638,\n",
              " 0.1476518472135253,\n",
              " 0.16713838447088286,\n",
              " 0.16696305572949277,\n",
              " 0.16262993112085156,\n",
              " 0.16710081402629928,\n",
              " 0.16758922980588598,\n",
              " 0.16463368816530988,\n",
              " 0.1633813400125234,\n",
              " 0.1633813400125234,\n",
              " 0.16493425172197868,\n",
              " 0.17084533500313087,\n",
              " 0.17112085159674384,\n",
              " 0.1687163431433938,\n",
              " 0.16210394489668123,\n",
              " 0.16280525986224165,\n",
              " 0.1656856606136506,\n",
              " 0.17179711959924854,\n",
              " 0.17648090169067,\n",
              " 0.17635566687539134,\n",
              " 0.1834690043832185,\n",
              " 0.1856230432060112,\n",
              " 0.18219160926737632,\n",
              " 0.18126487163431432,\n",
              " 0.1777833437695679,\n",
              " 0.18467125860989347,\n",
              " 0.18564809016906697,\n",
              " 0.19273638071383836,\n",
              " 0.1915341264871634,\n",
              " 0.19313713212273004,\n",
              " 0.19829680651221032,\n",
              " 0.1955666875391358,\n",
              " 0.1957921102066374,\n",
              " 0.1931621790857858,\n",
              " 0.2007764558547276,\n",
              " 0.19997495303694424,\n",
              " 0.19644333124608637,\n",
              " 0.2034314339386349,\n",
              " 0.2064120225422667,\n",
              " 0.2072636192861615,\n",
              " 0.21823418910457104,\n",
              " 0.21445209768315587,\n",
              " 0.21162179085785848,\n",
              " 0.21282404508453345,\n",
              " 0.20999373825923606,\n",
              " 0.20480901690670006,\n",
              " 0.20348152786474638,\n",
              " 0.20771446462116466,\n",
              " 0.20964308077645577,\n",
              " 0.21001878522229173,\n",
              " 0.21828428303068248,\n",
              " 0.2176330619912335,\n",
              " 0.22106449592986843,\n",
              " 0.21613024420788973,\n",
              " 0.21314965560425791,\n",
              " 0.215178459611772,\n",
              " 0.21735754539762048,\n",
              " 0.21956167814652466,\n",
              " 0.21635566687539132,\n",
              " 0.22289292423293672,\n",
              " 0.22444583594239192,\n",
              " 0.22232936756418276,\n",
              " 0.21475266123982467,\n",
              " 0.21122103944896675,\n",
              " 0.1882279273638071,\n",
              " 0.18036318096430803,\n",
              " 0.18274264245460237,\n",
              " 0.1787100814026299,\n",
              " 0.17815904821540385,\n",
              " 0.17770820288040068,\n",
              " 0.18189104571070758,\n",
              " 0.1768566061365059,\n",
              " 0.1746524733876017,\n",
              " 0.16821540388227924,\n",
              " 0.16944270507200998,\n",
              " 0.17282404508453347,\n",
              " 0.17630557294927984,\n",
              " 0.18604884157795865,\n",
              " 0.17417658108954281,\n",
              " 0.17976205385097055,\n",
              " 0.18371947401377575,\n",
              " 0.1935629304946775,\n",
              " 0.20240450845335,\n",
              " 0.20295554164057605,\n",
              " 0.20693800876643703,\n",
              " 0.20753913587977452,\n",
              " 0.19053224796493418,\n",
              " 0.1771321227301189,\n",
              " 0.17868503443957418,\n",
              " 0.18164057608015027,\n",
              " 0.17397620538509706,\n",
              " 0.16874139010644956,\n",
              " 0.17257357545397617,\n",
              " 0.17074514715090788,\n",
              " 0.17815904821540385,\n",
              " 0.18091421415153408,\n",
              " 0.17194740137758296,\n",
              " 0.16804007514088914,\n",
              " 0.17019411396368184,\n",
              " 0.173425172197871,\n",
              " 0.16310582341891044,\n",
              " 0.15927363807138384,\n",
              " 0.15992485911083276,\n",
              " 0.16122730118973072,\n",
              " 0.16758922980588598,\n",
              " 0.16420788979336254,\n",
              " 0.1673638071383844,\n",
              " 0.17049467752035058,\n",
              " 0.17695679398872882,\n",
              " 0.18071383844708827,\n",
              " 0.17921102066374445,\n",
              " 0.18274264245460237,\n",
              " 0.1850219160926737,\n",
              " 0.18036318096430803,\n",
              " 0.18003757044458357,\n",
              " 0.17610519724483403,\n",
              " 0.17282404508453347,\n",
              " 0.17187226048841575,\n",
              " 0.1654101440200375,\n",
              " 0.1657107075767063,\n",
              " 0.1668127739511584,\n",
              " 0.16095178459611764,\n",
              " 0.15040701314965554,\n",
              " 0.1537382592360676,\n",
              " 0.15892298058860355,\n",
              " 0.16012523481527863,\n",
              " 0.16814026299311202,\n",
              " 0.17715716969317463,\n",
              " 0.17485284909204757,\n",
              " 0.1813149655604257,\n",
              " 0.18780212899185966,\n",
              " 0.19048215403882274,\n",
              " 0.1892798998121477,\n",
              " 0.19927363807138382,\n",
              " 0.19526612398246712,\n",
              " 0.20187852222917968,\n",
              " 0.20330619912335623,\n",
              " 0.2075641828428303,\n",
              " 0.2075140889167188,\n",
              " 0.21192235441452717,\n",
              " 0.20989355040701307,\n",
              " 0.211571696931747,\n",
              " 0.20821540388227922,\n",
              " 0.2077645585472761,\n",
              " 0.2092924232936756,\n",
              " 0.20671258609893545,\n",
              " 0.20816530995616772,\n",
              " 0.2113963681903569,\n",
              " 0.20686286787726987,\n",
              " 0.21685660613650587,\n",
              " 0.21410144020037564,\n",
              " 0.21898559799624295,\n",
              " 0.22259236067626798,\n",
              " 0.21625547902316838,\n",
              " 0.22008766437069505,\n",
              " 0.2282279273638071,\n",
              " 0.22860363180964305,\n",
              " 0.2272510958046336,\n",
              " 0.22304320601127103,\n",
              " 0.22567313713212267,\n",
              " 0.2203882279273638,\n",
              " 0.22001252348152783,\n",
              " 0.21730745147150904,\n",
              " 0.21592986850344392,\n",
              " 0.21618033813400123,\n",
              " 0.2172573575453976,\n",
              " 0.21462742642454596,\n",
              " 0.19737006887914832,\n",
              " 0.19388854101440195,\n",
              " 0.18802755165936125,\n",
              " 0.18619912335629302,\n",
              " 0.1971696931747025,\n",
              " 0.19611772072636185,\n",
              " 0.1987476518472135,\n",
              " 0.19724483406386972,\n",
              " 0.19807138384470874,\n",
              " 0.19233562930494674,\n",
              " 0.18995616781465247,\n",
              " 0.20485911083281144,\n",
              " 0.21219787100814025,\n",
              " 0.21803381340012518,\n",
              " 0.2212648716343143,\n",
              " 0.21956167814652466,\n",
              " 0.2187351283656856,\n",
              " 0.21435190983093294,\n",
              " 0.2126236693800876,\n",
              " 0.2033813400125234,\n",
              " 0.1942642454602379,\n",
              " 0.2004257983719474,\n",
              " 0.19789605510331865,\n",
              " 0.20247964934251717,\n",
              " 0.20653725735754536,\n",
              " 0.20681277395115838,\n",
              " 0.20408265497808387,\n",
              " 0.2054101440200375,\n",
              " 0.20115216030056354,\n",
              " 0.19586725109580455,\n",
              " 0.1936380713838447,\n",
              " 0.19291170945522856,\n",
              " 0.18902943018159046,\n",
              " 0.18715090795241074,\n",
              " 0.18905447714464613,\n",
              " 0.19418910457107075,\n",
              " 0.1895554164057608,\n",
              " 0.18614902943018152,\n",
              " 0.18983093299937376,\n",
              " 0.1868002504696305,\n",
              " 0.18512210394489664,\n",
              " 0.18239198497182213,\n",
              " 0.17097056981840947,\n",
              " 0.1584971822166562,\n",
              " 0.15599248591108322,\n",
              " 0.15569192235441448,\n",
              " 0.16002504696305564,\n",
              " 0.16508453350031305,\n",
              " 0.16628678772698802,\n",
              " 0.16102692548528486,\n",
              " 0.1657107075767063,\n",
              " 0.16475892298058858,\n",
              " 0.16751408891671882,\n",
              " 0.173425172197871,\n",
              " 0.17991233562930486,\n",
              " 0.1616280525986224,\n",
              " 0.16390732623669374,\n",
              " 0.16032561051972444,\n",
              " 0.15747025673137127,\n",
              " 0.16648716343143388,\n",
              " 0.16190356919223536,\n",
              " 0.15827175954915462,\n",
              " 0.1552911709455228,\n",
              " 0.1573199749530369,\n",
              " 0.1552410770194113,\n",
              " 0.1571446462116468,\n",
              " 0.1543143393863493,\n",
              " 0.15737006887914834,\n",
              " 0.1526361928616155,\n",
              " 0.1708202880400751,\n",
              " 0.17460237946149026,\n",
              " 0.16493425172197868,\n",
              " 0.1566437069505322,\n",
              " 0.15318722604884155,\n",
              " 0.1507827175954915,\n",
              " 0.1456731371321227,\n",
              " 0.14777708202880396,\n",
              " 0.15043206011271132,\n",
              " 0.15574201628052597,\n",
              " 0.15792110206637439,\n",
              " 0.1564433312460864,\n",
              " 0.16696305572949277,\n",
              " 0.15902316844082653,\n",
              " 0.1564433312460864,\n",
              " 0.16578584846587346,\n",
              " 0.19170945522855348,\n",
              " 0.1875266123982467,\n",
              " 0.189254852849092,\n",
              " 0.19010644959298684,\n",
              " 0.1946900438321853,\n",
              " 0.19088290544771447,\n",
              " 0.19897307451471502,\n",
              " 0.20185347526612396,\n",
              " 0.207589229805886,\n",
              " 0.20788979336255475,\n",
              " 0.20796493425172197,\n",
              " 0.2108954289292423,\n",
              " 0.21417658108954285,\n",
              " 0.2105447714464621,\n",
              " 0.2004758922980588,\n",
              " 0.20824045084533493,\n",
              " 0.2082654978083907,\n",
              " 0.20901690670006257,\n",
              " 0.2115216030056355,\n",
              " 0.21392611145898555,\n",
              " 0.2183844708829054,\n",
              " 0.2191859737006887,\n",
              " 0.22299311208515965,\n",
              " 0.21951158422041323,\n",
              " 0.22554790231684402,\n",
              " 0.216105197244834,\n",
              " 0.25124608641202256,\n",
              " 0.2660738885410144,\n",
              " 0.26900438321853476,\n",
              " 0.2646211646837821,\n",
              " 0.275090795241077,\n",
              " 0.26912961803381336,\n",
              " 0.2575829680651221,\n",
              " 0.25209768315591735,\n",
              " 0.25372573575453966,\n",
              " 0.25605510331872255,\n",
              " 0.26652473387601744,\n",
              " 0.26865372573575447,\n",
              " 0.2599373825923606,\n",
              " 0.27529117094552286,\n",
              " 0.2841077019411396,\n",
              " 0.287313713212273,\n",
              " 0.29931120851596743,\n",
              " 0.30301815904821533,\n",
              " 0.3051721978710081,\n",
              " 0.3159423919849717,\n",
              " 0.3023919849718221,\n",
              " 0.30983093299937375,\n",
              " 0.3194990607388854,\n",
              " 0.32055103318722594,\n",
              " 0.3056731371321227,\n",
              " 0.29390106449592984,\n",
              " 0.2942266750156543,\n",
              " 0.2933500313087038,\n",
              " 0.2959799624295553,\n",
              " 0.2797745773324984,\n",
              " 0.27714464621164686,\n",
              " 0.2783218534752661,\n",
              " 0.2790231684408265,\n",
              " 0.2804257983719474,\n",
              " 0.2886412022542267,\n",
              " 0.27932373199749533,\n",
              " 0.28308077645585467,\n",
              " 0.25655604257983716,\n",
              " 0.2514464621164683,\n",
              " 0.2579336255479023,\n",
              " 0.26667501565435187,\n",
              " 0.2740137758296806,\n",
              " 0.27724483406386974,\n",
              " 0.28661239824671253,\n",
              " 0.28773951158422034,\n",
              " 0.29525360050093924,\n",
              " 0.29858484658735124,\n",
              " 0.2981840951784595,\n",
              " 0.29973700688791477,\n",
              " 0.29946149029430175,\n",
              " 0.29477770820288035,\n",
              " 0.30056355666875384,\n",
              " 0.30141515341264863,\n",
              " 0.30354414527238566,\n",
              " 0.29968691296180333,\n",
              " 0.30795241077019403,\n",
              " 0.30597370068879143,\n",
              " 0.290369442705072,\n",
              " 0.2855604257983719,\n",
              " 0.2893926111458985,\n",
              " 0.2854852849092047,\n",
              " 0.2857107075767063,\n",
              " 0.283706950532248,\n",
              " 0.29009392611145896,\n",
              " 0.290369442705072,\n",
              " 0.2896931747025672,\n",
              " 0.27421415153412637,\n",
              " 0.27539135879774573,\n",
              " 0.28515967438948026,\n",
              " 0.30564809016906697,\n",
              " 0.303969943644333,\n",
              " 0.2996368190356919,\n",
              " 0.3018910457107075,\n",
              " 0.2993863494051346,\n",
              " 0.30226675015654353,\n",
              " 0.30294301815904817,\n",
              " 0.31599248591108325,\n",
              " 0.29898559799624297,\n",
              " 0.3004132748904195,\n",
              " 0.29763306199123346,\n",
              " 0.30046336881653096,\n",
              " 0.2876643706950532,\n",
              " 0.2978835316217909,\n",
              " 0.3073262366938008,\n",
              " 0.3060738885410143,\n",
              " 0.3023418910457107,\n",
              " 0.3117345021916092,\n",
              " 0.31812147777082017,\n",
              " 0.3129367564182843,\n",
              " 0.3138634940513462,\n",
              " 0.3210018785222291,\n",
              " 0.3247088290544771,\n",
              " 0.32315591734502186,\n",
              " 0.3103819661865998,\n",
              " 0.3099060738885409,\n",
              " 0.3120100187852222,\n",
              " 0.31699436443331247,\n",
              " 0.3176706324358171,\n",
              " 0.30872886662492166,\n",
              " 0.29823418910457106,\n",
              " 0.29072010018785216,\n",
              " 0.28846587351283653,\n",
              " 0.29207263619286156,\n",
              " 0.29024420788979327,\n",
              " 0.30216656230432054,\n",
              " 0.3008641202254226,\n",
              " 0.29402629931120844,\n",
              " 0.29402629931120844,\n",
              " 0.29625547902316846,\n",
              " 0.30402003757044455,\n",
              " 0.2959549154664996]"
            ]
          },
          "metadata": {},
          "execution_count": 40
        }
      ],
      "source": [
        "temp_input"
      ]
    },
    {
      "cell_type": "code",
      "execution_count": null,
      "metadata": {
        "id": "DJw74LVjXldP",
        "colab": {
          "base_uri": "https://localhost:8080/",
          "height": 421
        },
        "outputId": "bd1ed462-83e8-40ca-c8f5-8e911877950b"
      },
      "outputs": [
        {
          "output_type": "display_data",
          "data": {
            "text/plain": [
              "<Figure size 1200x600 with 1 Axes>"
            ],
            "image/png": "[encoded data removed]"
          },
          "metadata": {}
        }
      ],
      "source": [
        "look_back = time_step\n",
        "trainPredictPlot = np.empty_like(df1)\n",
        "trainPredictPlot[:, :] = np.nan\n",
        "trainPredictPlot[look_back:len(train_predict) + look_back, :] = train_predict\n",
        "\n",
        "testPredictPlot = np.empty_like(df1)\n",
        "testPredictPlot[:, :] = np.nan\n",
        "testPredictPlot[len(train_predict) + (look_back * 2) + 1:len(df1) - 1, :] = test_predict\n",
        "\n",
        "plt.figure(figsize=(12, 6))\n",
        "plt.plot(scaler.inverse_transform(df1), label=\"Actual Stock Price\")\n",
        "plt.plot(trainPredictPlot, label=\"Train Predictions\")\n",
        "plt.plot(testPredictPlot, label=\"Test Predictions\")\n",
        "plt.title('Stock Price Prediction')\n",
        "plt.xlabel('Time')\n",
        "plt.ylabel('Price')\n",
        "plt.legend()\n",
        "plt.show()"
      ]
    },
    {
      "cell_type": "code",
      "execution_count": null,
      "metadata": {
        "id": "1nSqBcZ6XldP"
      },
      "outputs": [],
      "source": [
        "day_new=np.arange(1,101)\n",
        "day_pred=np.arange(101,131)"
      ]
    },
    {
      "cell_type": "code",
      "execution_count": null,
      "metadata": {
        "id": "iiE7-IE5XldX"
      },
      "outputs": [],
      "source": [
        "import matplotlib.pyplot as plt"
      ]
    },
    {
      "cell_type": "code",
      "execution_count": null,
      "metadata": {
        "id": "_ZTVRTeHXldY",
        "colab": {
          "base_uri": "https://localhost:8080/"
        },
        "outputId": "c2a561d1-78fb-4162-f9ef-e8994f1f9e56"
      },
      "outputs": [
        {
          "output_type": "execute_result",
          "data": {
            "text/plain": [
              "1256"
            ]
          },
          "metadata": {},
          "execution_count": 87
        }
      ],
      "source": [
        "len(df1)"
      ]
    },
    {
      "cell_type": "code",
      "execution_count": null,
      "metadata": {
        "id": "HNxKIx5VXldY",
        "colab": {
          "base_uri": "https://localhost:8080/",
          "height": 686
        },
        "outputId": "1aaa2a8a-a689-4e68-ed17-a4a96dd4cadb"
      },
      "outputs": [
        {
          "output_type": "stream",
          "name": "stdout",
          "text": [
            "Predicted values for the next 10 days:\n",
            "[[0.28253946]\n",
            " [0.28157654]\n",
            " [0.27977476]\n",
            " [0.27752161]\n",
            " [0.27507475]\n",
            " [0.27256489]\n",
            " [0.2700429 ]\n",
            " [0.26751918]\n",
            " [0.26498815]\n",
            " [0.26244032]]\n"
          ]
        },
        {
          "output_type": "display_data",
          "data": {
            "text/plain": [
              "<Figure size 1000x600 with 1 Axes>"
            ],
            "image/png": "[encoded data removed]"
          },
          "metadata": {}
        }
      ],
      "source": [
        "# Future prediction for 10 days\n",
        "x_input = test_data[-time_step:].reshape(1, -1)\n",
        "temp_input = list(x_input[0])\n",
        "lst_output = []\n",
        "\n",
        "n_steps = time_step\n",
        "i = 0\n",
        "\n",
        "while i < 10:\n",
        "    if len(temp_input) > n_steps:\n",
        "        x_input = np.array(temp_input[-n_steps:]).reshape(1, n_steps, 1)\n",
        "    else:\n",
        "        x_input = np.array(temp_input).reshape(1, len(temp_input), 1)\n",
        "    yhat = model.predict(x_input, verbose=0)\n",
        "    temp_input.extend(yhat[0].tolist())\n",
        "    lst_output.extend(yhat.tolist())\n",
        "    i += 1\n",
        "\n",
        "# Transform future predictions back to original scale\n",
        "future_predictions = scaler.inverse_transform(lst_output)\n",
        "\n",
        "print(\"Predicted values for the next 10 days:\")\n",
        "print(future_predictions)\n",
        "\n",
        "# Plot the extended future predictions\n",
        "plt.figure(figsize=(10, 6))\n",
        "plt.plot(scaler.inverse_transform(df1), label=\"Original Data\")\n",
        "plt.plot(range(len(df1), len(df1) + 10), future_predictions, label=\"Future Predictions\", color=\"red\")\n",
        "plt.title('Future Stock Price Prediction')\n",
        "plt.xlabel('Time')\n",
        "plt.ylabel('Price')\n",
        "plt.legend()\n",
        "plt.show()"
      ]
    },
    {
      "cell_type": "code",
      "execution_count": null,
      "metadata": {
        "id": "OJ31LjFwXlda",
        "colab": {
          "base_uri": "https://localhost:8080/",
          "height": 447
        },
        "outputId": "c06ad4ec-6d99-406b-a2d6-d725d369bdb4"
      },
      "outputs": [
        {
          "output_type": "execute_result",
          "data": {
            "text/plain": [
              "[<matplotlib.lines.Line2D at 0x7ad65db84370>]"
            ]
          },
          "metadata": {},
          "execution_count": 91
        },
        {
          "output_type": "display_data",
          "data": {
            "text/plain": [
              "<Figure size 640x480 with 1 Axes>"
            ],
            "image/png": "[encoded data removed]"
          },
          "metadata": {}
        }
      ],
      "source": [
        "df3=df1.tolist()\n",
        "df3.extend(lst_output)\n",
        "plt.plot(df3[1200:])"
      ]
    },
    {
      "cell_type": "code",
      "execution_count": null,
      "metadata": {
        "id": "OhhrgAfhXlda"
      },
      "outputs": [],
      "source": [
        "df3=scaler.inverse_transform(df3).tolist()"
      ]
    },
    {
      "cell_type": "code",
      "execution_count": null,
      "metadata": {
        "id": "s7NO0avRXldb",
        "colab": {
          "base_uri": "https://localhost:8080/",
          "height": 447
        },
        "outputId": "4f6ea20b-7208-45e6-8288-40e4a0630322"
      },
      "outputs": [
        {
          "output_type": "execute_result",
          "data": {
            "text/plain": [
              "[<matplotlib.lines.Line2D at 0x7ad65db38f10>]"
            ]
          },
          "metadata": {},
          "execution_count": 93
        },
        {
          "output_type": "display_data",
          "data": {
            "text/plain": [
              "<Figure size 640x480 with 1 Axes>"
            ],
            "image/png": "[encoded data removed]"
          },
          "metadata": {}
        }
      ],
      "source": [
        "plt.plot(df3)"
      ]
    },
    {
      "cell_type": "code",
      "execution_count": null,
      "metadata": {
        "id": "bU-SSJLWXldb",
        "colab": {
          "base_uri": "https://localhost:8080/"
        },
        "outputId": "68bd87e5-0553-47c3-8fa8-3a0acbd06c1b"
      },
      "outputs": [
        {
          "output_type": "stream",
          "name": "stderr",
          "text": [
            "WARNING:absl:You are saving your model as an HDF5 file via `model.save()` or `keras.saving.save_model(model)`. This file format is considered legacy. We recommend using instead the native Keras format, e.g. `model.save('my_model.keras')` or `keras.saving.save_model(model, 'my_model.keras')`. \n"
          ]
        },
        {
          "output_type": "stream",
          "name": "stdout",
          "text": [
            "Model saved in .h5 format.\n"
          ]
        }
      ],
      "source": [
        "model.save('stock_market_model.h5')\n",
        "print(\"Model saved in .h5 format.\")"
      ]
    },
    {
      "cell_type": "code",
      "source": [
        "model.save('stock_market_model_keras.keras')\n",
        "print(\"Model saved in Keras SavedModel format.\")"
      ],
      "metadata": {
        "colab": {
          "base_uri": "https://localhost:8080/"
        },
        "id": "eEBGpgGOjrE8",
        "outputId": "3cbe3597-3bfb-4784-eda7-f7df4228795e"
      },
      "execution_count": null,
      "outputs": [
        {
          "output_type": "stream",
          "name": "stdout",
          "text": [
            "Model saved in Keras SavedModel format.\n"
          ]
        }
      ]
    }
  ],
  "metadata": {
    "kernelspec": {
      "display_name": "Python 3",
      "name": "python3"
    },
    "language_info": {
      "codemirror_mode": {
        "name": "ipython",
        "version": 3
      },
      "file_extension": ".py",
      "mimetype": "text/x-python",
      "name": "python",
      "nbconvert_exporter": "python",
      "pygments_lexer": "ipython3",
      "version": "3.6.9"
    },
    "colab": {
      "provenance": [],
      "gpuType": "T4"
    },
    "accelerator": "GPU"
  },
  "nbformat": 4,
  "nbformat_minor": 0
}